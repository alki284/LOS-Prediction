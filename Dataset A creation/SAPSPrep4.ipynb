{
 "cells": [
  {
   "cell_type": "code",
   "execution_count": 1,
   "metadata": {},
   "outputs": [],
   "source": [
    "import pandas as pd\n",
    "import numpy as np\n",
    "import seaborn as sns\n",
    "import matplotlib.pyplot as plt\n",
    "import datetime\n",
    "import time\n",
    "import statistics\n",
    "import sklearn\n",
    "%matplotlib inline\n",
    "from datetime import date\n",
    "from scipy import stats as stats\n",
    "from sklearn import preprocessing\n",
    "from sklearn import model_selection\n",
    "from datetime import datetime, timedelta\n",
    "from tensorflow import keras as keras\n",
    "from sklearn.preprocessing import MinMaxScaler, StandardScaler\n",
    "from sklearn.model_selection import train_test_split\n",
    "from sklearn.compose import make_column_transformer\n",
    "from numpy import asarray\n",
    "from numpy import savetxt"
   ]
  },
  {
   "cell_type": "code",
   "execution_count": null,
   "metadata": {},
   "outputs": [],
   "source": [
    "df_demo = pd.read_csv(\"/Users/alex/df_sapsdemo.csv\")\n",
    "demo = df_demo[['HADM_ID', 'EMERGENCY', 'URGENT', 'Age Bin_1','Age Bin_2', 'Age Bin_3', 'Age Bin_4', \n",
    "                   'Age Bin_5', 'Age Bin_6','infectious and parasitic', 'neoplasms','blood and blood-forming organs']]\n",
    "demo = demo.drop_duplicates()\n",
    "HR = pd.read_csv(\"/Users/alex/HR.csv\")\n",
    "BP = pd.read_csv(\"/Users/alex/BP.csv\")\n",
    "Pot = pd.read_csv(\"/Users/alex/Pot.csv\")\n",
    "Temp = pd.read_csv(\"/Users/alex/Temp.csv\")\n",
    "WBC = pd.read_csv(\"/Users/alex/WBC.csv\")\n",
    "Na = pd.read_csv(\"/Users/alex/Na.csv\")\n",
    "Bi = pd.read_csv(\"/Users/alex/Bi.csv\")\n",
    "Glas = pd.read_csv(\"/Users/alex/Glas.csv\")\n",
    "Mech_Vent = pd.read_csv(\"/Users/alex/Mech_Vent.csv\")\n",
    "Biril = pd.read_csv(\"/Users/alex/Biril.csv\")\n",
    "Urine = pd.read_csv(\"/Users/alex/Urine.csv\")\n",
    "BUN = pd.read_csv(\"/Users/alex/BUN.csv\")"
   ]
  },
  {
   "cell_type": "code",
   "execution_count": 4,
   "metadata": {},
   "outputs": [
    {
     "data": {
      "text/plain": [
       "(22404, 12)"
      ]
     },
     "execution_count": 4,
     "metadata": {},
     "output_type": "execute_result"
    }
   ],
   "source": [
    "demo.shape"
   ]
  },
  {
   "cell_type": "code",
   "execution_count": 5,
   "metadata": {},
   "outputs": [],
   "source": [
    "HR = HR.drop(columns = 'Unnamed: 0')\n",
    "BP = BP.drop(columns = 'Unnamed: 0')\n",
    "Pot = Pot.drop(columns = 'Unnamed: 0')\n",
    "Temp = Temp.drop(columns = 'Unnamed: 0')\n",
    "WBC = WBC.drop(columns = 'Unnamed: 0')\n",
    "Na = Na.drop(columns = 'Unnamed: 0')\n",
    "Bi = Bi.drop(columns = 'Unnamed: 0')\n",
    "Glas = Glas.drop(columns = 'Unnamed: 0')\n",
    "Mech_Vent = Mech_Vent.drop(columns = 'Unnamed: 0')\n",
    "Biril = Biril.drop(columns = 'Unnamed: 0')\n",
    "Urine = Urine.drop(columns = 'Unnamed: 0')\n",
    "BUN = BUN.drop(columns = 'Unnamed: 0')"
   ]
  },
  {
   "cell_type": "code",
   "execution_count": 41,
   "metadata": {},
   "outputs": [],
   "source": [
    "lst = [HR, BP, Pot, Temp, WBC, Na, Bi, Glas, Mech_Vent, Biril, Urine, BUN]\n",
    "lstdata = ['HR', 'BP', 'Pot', 'Temp', 'WBC', 'Na', 'Bi', 'Glas', 'Mech_Vent', 'Biril', 'Urine', 'BUN']\n",
    "lstdemo = ['EMERGENCY', 'URGENT', 'Age Bin_1','Age Bin_2', 'Age Bin_3', 'Age Bin_4', \n",
    "                   'Age Bin_5', 'Age Bin_6','infectious', 'neoplasms','blood']\n",
    "\n",
    "def makefinal(lst, lstdata, demo, lstdemo):\n",
    "    binary = pd.DataFrame()\n",
    "    percent = 0\n",
    "    for i in range(0, 672, 2):\n",
    "        if (i % 67 ) == 0:\n",
    "            percent += 10\n",
    "            print(str(percent) + '% done.') \n",
    "        j = str(i)\n",
    "        for k in range(0, len(lstdata)):\n",
    "            mname = ('m' + str(lstdata[k]) + j)\n",
    "            tname = ('t'+ lstdata[k] + j)\n",
    "            \n",
    "            binary[tname] = lst[k].iloc[:, i]\n",
    "            binary[mname] = lst[k].iloc[:, i+1]\n",
    "        for l in range(0, len(lstdemo)):\n",
    "            dname = (lstdemo[l] + j)\n",
    "            binary[dname] = demo.iloc[:, l]\n",
    "        \n",
    "    return binary"
   ]
  },
  {
   "cell_type": "code",
   "execution_count": 42,
   "metadata": {},
   "outputs": [
    {
     "name": "stdout",
     "output_type": "stream",
     "text": [
      "10% done.\n",
      "20% done.\n",
      "30% done.\n",
      "40% done.\n",
      "50% done.\n",
      "60% done.\n"
     ]
    }
   ],
   "source": [
    "check = makefinal(lst, lstdata, demo, lstdemo)"
   ]
  },
  {
   "cell_type": "code",
   "execution_count": 43,
   "metadata": {},
   "outputs": [],
   "source": [
    "t1 = check.iloc[:1, :36]"
   ]
  },
  {
   "cell_type": "code",
   "execution_count": 44,
   "metadata": {},
   "outputs": [
    {
     "data": {
      "text/plain": [
       "Index(['tHR0', 'mHR0', 'tBP0', 'mBP0', 'tPot0', 'mPot0', 'tTemp0', 'mTemp0',\n",
       "       'tWBC0', 'mWBC0', 'tNa0', 'mNa0', 'tBi0', 'mBi0', 'tGlas0', 'mGlas0',\n",
       "       'tMech_Vent0', 'mMech_Vent0', 'tBiril0', 'mBiril0', 'tUrine0',\n",
       "       'mUrine0', 'tBUN0', 'mBUN0', 'EMERGENCY0', 'URGENT0', 'Age Bin_10',\n",
       "       'Age Bin_20', 'Age Bin_30', 'Age Bin_40', 'Age Bin_50', 'Age Bin_60',\n",
       "       'infectious0', 'neoplasms0', 'blood0', 'tHR2'],\n",
       "      dtype='object')"
      ]
     },
     "execution_count": 44,
     "metadata": {},
     "output_type": "execute_result"
    }
   ],
   "source": [
    "t1.columns"
   ]
  },
  {
   "cell_type": "code",
   "execution_count": 7,
   "metadata": {},
   "outputs": [
    {
     "name": "stdout",
     "output_type": "stream",
     "text": [
      "10% done.\n",
      "20% done.\n",
      "30% done.\n",
      "40% done.\n",
      "50% done.\n",
      "60% done.\n"
     ]
    }
   ],
   "source": [
    "binary = makefinal(lst, lstdata, demo, lstdemo)"
   ]
  },
  {
   "cell_type": "code",
   "execution_count": 8,
   "metadata": {},
   "outputs": [
    {
     "data": {
      "text/plain": [
       "(22404, 11760)"
      ]
     },
     "execution_count": 8,
     "metadata": {},
     "output_type": "execute_result"
    }
   ],
   "source": [
    "binary.shape"
   ]
  },
  {
   "cell_type": "code",
   "execution_count": 9,
   "metadata": {},
   "outputs": [
    {
     "data": {
      "text/plain": [
       "35.0"
      ]
     },
     "execution_count": 9,
     "metadata": {},
     "output_type": "execute_result"
    }
   ],
   "source": [
    "11760/336"
   ]
  },
  {
   "cell_type": "code",
   "execution_count": 10,
   "metadata": {},
   "outputs": [],
   "source": [
    "binary = np.asarray(binary)"
   ]
  },
  {
   "cell_type": "code",
   "execution_count": 15,
   "metadata": {},
   "outputs": [
    {
     "name": "stdout",
     "output_type": "stream",
     "text": [
      "19043\n",
      "3361\n"
     ]
    }
   ],
   "source": [
    "from sklearn.model_selection import train_test_split\n",
    "train, test = train_test_split(binary, test_size=0.15, shuffle = False)\n",
    "\n",
    "print(train.shape[0])\n",
    "print(test.shape[0])\n",
    "\n",
    "scaler = MinMaxScaler(feature_range=(-1, 1))\n",
    "\n",
    "trnx = scaler.fit_transform(train)\n",
    "tstx = scaler.transform(test)"
   ]
  },
  {
   "cell_type": "code",
   "execution_count": 2,
   "metadata": {},
   "outputs": [],
   "source": [
    "y = pd.read_csv(\"/Users/alex/SAPSy.csv\")"
   ]
  },
  {
   "cell_type": "code",
   "execution_count": 3,
   "metadata": {},
   "outputs": [
    {
     "data": {
      "text/plain": [
       "(22404, 337)"
      ]
     },
     "execution_count": 3,
     "metadata": {},
     "output_type": "execute_result"
    }
   ],
   "source": [
    "y.shape"
   ]
  },
  {
   "cell_type": "code",
   "execution_count": 4,
   "metadata": {},
   "outputs": [],
   "source": [
    "y = y.iloc[:, 1:]"
   ]
  },
  {
   "cell_type": "code",
   "execution_count": 5,
   "metadata": {},
   "outputs": [],
   "source": [
    "y = y.fillna(0)"
   ]
  },
  {
   "cell_type": "code",
   "execution_count": 6,
   "metadata": {},
   "outputs": [],
   "source": [
    "trny = y[:19043]\n",
    "tsty = y[19043:]"
   ]
  },
  {
   "cell_type": "code",
   "execution_count": 8,
   "metadata": {},
   "outputs": [],
   "source": [
    "tsty = np.asarray(tsty)\n",
    "trny = np.asarray(trny)"
   ]
  },
  {
   "cell_type": "code",
   "execution_count": 9,
   "metadata": {},
   "outputs": [
    {
     "data": {
      "text/plain": [
       "(3361, 336)"
      ]
     },
     "execution_count": 9,
     "metadata": {},
     "output_type": "execute_result"
    }
   ],
   "source": [
    "tsty.shape"
   ]
  },
  {
   "cell_type": "code",
   "execution_count": 10,
   "metadata": {},
   "outputs": [
    {
     "data": {
      "text/plain": [
       "(19043, 336)"
      ]
     },
     "execution_count": 10,
     "metadata": {},
     "output_type": "execute_result"
    }
   ],
   "source": [
    "trny.shape"
   ]
  },
  {
   "cell_type": "code",
   "execution_count": 11,
   "metadata": {},
   "outputs": [],
   "source": [
    "from numpy import asarray\n",
    "from numpy import savetxt\n",
    "savetxt('SAPSIItsty0.csv', tsty, delimiter=',')\n",
    "savetxt('SAPSIItrny0.csv', trny, delimiter=',')"
   ]
  },
  {
   "cell_type": "code",
   "execution_count": 28,
   "metadata": {},
   "outputs": [],
   "source": [
    "# save numpy array as csv file\n",
    "from numpy import asarray\n",
    "from numpy import savetxt\n",
    "# save to csv file\n",
    "savetxt('binSAPSIItrnx.csv', trnx, delimiter=',')\n",
    "savetxt('binSAPSIItrny.csv', trny, delimiter=',')\n",
    "savetxt('binSAPSIItstx.csv', tstx, delimiter=',')\n",
    "savetxt('binSAPSIItsty.csv', tsty, delimiter=',')"
   ]
  },
  {
   "cell_type": "code",
   "execution_count": 39,
   "metadata": {},
   "outputs": [],
   "source": [
    "# save numpy array as csv file\n",
    "from numpy import asarray\n",
    "from numpy import savetxt\n",
    "savetxt('binSAPSIItstx.csv', tstx, delimiter=',')\n",
    "savetxt('binSAPSIItsty.csv', tsty, delimiter=',')"
   ]
  },
  {
   "cell_type": "code",
   "execution_count": null,
   "metadata": {},
   "outputs": [],
   "source": []
  }
 ],
 "metadata": {
  "kernelspec": {
   "display_name": "Python 3",
   "language": "python",
   "name": "python3"
  },
  "language_info": {
   "codemirror_mode": {
    "name": "ipython",
    "version": 3
   },
   "file_extension": ".py",
   "mimetype": "text/x-python",
   "name": "python",
   "nbconvert_exporter": "python",
   "pygments_lexer": "ipython3",
   "version": "3.7.3"
  }
 },
 "nbformat": 4,
 "nbformat_minor": 2
}
