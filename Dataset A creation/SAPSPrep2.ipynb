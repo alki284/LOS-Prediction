{
 "cells": [
  {
   "cell_type": "code",
   "execution_count": 1,
   "metadata": {},
   "outputs": [],
   "source": [
    "import pandas as pd\n",
    "import numpy as np\n",
    "import seaborn as sns\n",
    "import matplotlib.pyplot as plt\n",
    "import datetime\n",
    "import time\n",
    "import statistics\n",
    "import sklearn\n",
    "%matplotlib inline\n",
    "from datetime import date\n",
    "from scipy import stats as stats\n",
    "from sklearn import preprocessing\n",
    "from sklearn import model_selection\n",
    "from datetime import datetime, timedelta\n",
    "from tensorflow import keras as keras\n",
    "from sklearn.preprocessing import StandardScaler\n",
    "from sklearn.model_selection import train_test_split\n",
    "from sklearn.compose import make_column_transformer"
   ]
  },
  {
   "cell_type": "code",
   "execution_count": 2,
   "metadata": {},
   "outputs": [],
   "source": [
    "df_time = pd.read_csv(\"/Users/alex/SAPSICD9.csv\")"
   ]
  },
  {
   "cell_type": "code",
   "execution_count": null,
   "metadata": {},
   "outputs": [],
   "source": []
  },
  {
   "cell_type": "code",
   "execution_count": 3,
   "metadata": {},
   "outputs": [],
   "source": [
    "df_time = df_time.drop_duplicates(subset=['HADM_ID','CHARTTIME', 'ITEM_NAME'], keep='first')"
   ]
  },
  {
   "cell_type": "code",
   "execution_count": 5,
   "metadata": {},
   "outputs": [],
   "source": [
    "date_mask = \"%Y-%m-%d %H:%M:%S\"\n",
    "df_time['CHARTTIME'] = pd.to_datetime(df_time['CHARTTIME'], format= date_mask)\n",
    "df_time['DISCHTIME'] = pd.to_datetime(df_time['DISCHTIME'], format= date_mask)\n",
    "df_time['ADMITTIME'] = pd.to_datetime(df_time['ADMITTIME'], format= date_mask)\n",
    "df_time['HOURS_LEFT'] = round(((df_time['DISCHTIME'] - df_time['CHARTTIME']).dt.total_seconds() / 3600))\n",
    "df_time['LOS'] = round(((df_time['DISCHTIME'] - df_time['ADMITTIME']).dt.total_seconds() / 3600))"
   ]
  },
  {
   "cell_type": "code",
   "execution_count": 6,
   "metadata": {},
   "outputs": [],
   "source": [
    "df_values = df_time[['HADM_ID', 'ITEMID', 'CHARTTIME', 'VALUE', 'ITEM_NAME',\n",
    "       'blood and blood-forming organs', 'circulatory', 'congenital',\n",
    "       'digestive', 'endocrine, metabolic and immunity',\n",
    "       'external causes of injury and supplemental classification',\n",
    "       'genitourinary', 'ill-defined', 'infectious and parasitic',\n",
    "       'injury and poisoning', 'mental', 'musculoskeletal', 'neoplasms',\n",
    "       'nervous', 'perinatal period', 'pregnancy, childbirth, and puerperium',\n",
    "       'respiratory', 'skin and subcutaneous tissue',\n",
    "       'EMERGENCY', 'URGENT', 'AGE BIN', 'Age Bin_2', 'Age Bin_3', 'Age Bin_4',\n",
    "       'Age Bin_5', 'Age Bin_6', 'Age Bin_7', 'Age Bin_8', 'Age Bin_9',\n",
    "       'Age Bin_10', 'Age Bin_11', 'Age Bin_12', 'Age Bin_13', 'Age Bin_14',\n",
    "       'Age Bin_15', 'Age Bin_16', 'HOURS_IN', 'HOURS_LEFT', 'LOS']]"
   ]
  },
  {
   "cell_type": "code",
   "execution_count": 7,
   "metadata": {},
   "outputs": [],
   "source": [
    "df_value = df_time[['HADM_ID', 'CHARTTIME', 'ITEM_NAME', 'VALUE']]\n",
    "#df_values = df_time[['HADM_ID', 'CHARTTIME', 'ITEM_NAME', 'VALUE', 'HOURS_IN', 'SHIFTS_LEFT', 'HOURS_LEFT']]\n",
    "df_all = pd.DataFrame()\n",
    "df_all['CHARTTIME'] = df_value['CHARTTIME']\n",
    "df_all['HADM_ID'] = df_value['HADM_ID']\n",
    "df_all['HeartRate'] = \"\"\n",
    "df_all['SystolicBP'] = \"\"\n",
    "df_all['Potassium'] = \"\"\n",
    "df_all['Temperature'] = \"\"\n",
    "df_all['White_Blood_Cell'] = \"\"\n",
    "df_all['Sodium'] = \"\"\n",
    "df_all['Bicarbonate'] = \"\"\n",
    "df_all['Glasgow_Coma'] = \"\"\n",
    "df_all['Birillium'] = \"\"\n",
    "df_all['BloodUreaNitrogen'] = \"\"\n",
    "df_all['Urine'] = \"\"\n",
    "df_all['Mech_Vent'] = \"\""
   ]
  },
  {
   "cell_type": "code",
   "execution_count": 8,
   "metadata": {},
   "outputs": [],
   "source": [
    "HeartRate = df_values[df_values['ITEM_NAME'].str.contains(\"HeartRate\")]\n",
    "SystolicBP = df_value[df_value['ITEM_NAME'].str.contains(\"systolicBP\")]\n",
    "Potassium = df_value[df_value['ITEM_NAME'].str.contains(\"Potassium\")]\n",
    "Temperature = df_value[df_value['ITEM_NAME'].str.contains(\"temperature\")]\n",
    "White_Blood_Cell = df_value[df_value['ITEM_NAME'].str.contains(\"White_blood_cell\")]\n",
    "Sodium = df_value[df_value['ITEM_NAME'].str.contains(\"sodium\")]\n",
    "Bicarbonate = df_value[df_value['ITEM_NAME'].str.contains(\"bicarbonate\")]\n",
    "Glasgow_Coma = df_value[df_value['ITEM_NAME'].str.contains(\"glasgow\")]\n",
    "Birillium = df_value[df_value['ITEM_NAME'].str.contains(\"birillium\")]\n",
    "BloodUreaNitrogen = df_value[df_value['ITEM_NAME'].str.contains(\"BUN\")]\n",
    "Urine = df_value[df_value['ITEM_NAME'].str.contains(\"Urine\")]\n",
    "Mech_Vent = df_value[df_value['ITEM_NAME'].str.contains(\"mech_vent\")]"
   ]
  },
  {
   "cell_type": "code",
   "execution_count": 9,
   "metadata": {},
   "outputs": [],
   "source": [
    "df_all = df_all.merge(HeartRate, on=['HADM_ID', 'CHARTTIME'], how = 'outer')\n",
    "df_all['HeartRate'] = df_all['VALUE']\n",
    "df_all = df_all.drop(columns = ['VALUE', 'ITEM_NAME'])"
   ]
  },
  {
   "cell_type": "code",
   "execution_count": 10,
   "metadata": {},
   "outputs": [],
   "source": [
    "def addvital(VitalList, nameofcol):\n",
    "    global df_all\n",
    "    df_all = df_all.merge(VitalList, on=['HADM_ID', 'CHARTTIME'], how = 'outer')\n",
    "    df_all[nameofcol] = df_all['VALUE']\n",
    "    df_all = df_all.drop(columns = ['VALUE', 'ITEM_NAME'])\n",
    "    \n",
    "addvital(SystolicBP, 'SystolicBP')\n",
    "addvital(Potassium, 'Potassium')\n",
    "addvital(Temperature, 'Temperature')\n",
    "addvital(White_Blood_Cell, 'White_Blood_Cell')\n",
    "addvital(Sodium, 'Sodium')\n",
    "addvital(Bicarbonate, 'Bicarbonate')\n",
    "addvital(Glasgow_Coma, 'Glasgow_Coma')\n",
    "addvital(Birillium, 'Birillium')\n",
    "addvital(BloodUreaNitrogen, 'BloodUreaNitrogen')\n",
    "addvital(Urine, 'Urine')\n",
    "addvital(Mech_Vent, 'Mech_Vent')"
   ]
  },
  {
   "cell_type": "code",
   "execution_count": 11,
   "metadata": {},
   "outputs": [],
   "source": [
    "df_all = df_all.drop_duplicates(subset=['HADM_ID','CHARTTIME'], keep='first')"
   ]
  },
  {
   "cell_type": "code",
   "execution_count": 12,
   "metadata": {},
   "outputs": [],
   "source": [
    "def fordfill(vital, vitalmask):\n",
    "    df_all[vitalmask] = 0\n",
    "    df_all.loc[df_all[vital].isna() == False, vitalmask] = 1\n",
    "    df_all[vital]=df_all.groupby('HADM_ID')[vital].apply(lambda x : x.ffill())\n",
    "    \n",
    "fordfill('HeartRate', 'HeartRateMask')\n",
    "fordfill('SystolicBP', 'SystolicBPMask')\n",
    "fordfill('Potassium', 'PotassiumMask')\n",
    "fordfill('Temperature', 'TemperatureMask')\n",
    "fordfill('White_Blood_Cell', 'White_Blood_CellMask')\n",
    "fordfill('Sodium', 'SodiumMask')\n",
    "fordfill('Bicarbonate', 'BicarbonateMask')\n",
    "fordfill('Glasgow_Coma', 'Glasgow_ComaMask')\n",
    "fordfill('Birillium', 'BirilliumMask')\n",
    "fordfill('BloodUreaNitrogen', 'BloodUreaNitrogenMask')\n",
    "fordfill('Urine', 'UrineMask')\n",
    "fordfill('Mech_Vent', 'Mech_VentMask')"
   ]
  },
  {
   "cell_type": "code",
   "execution_count": 13,
   "metadata": {},
   "outputs": [],
   "source": [
    "imputdict = {\n",
    "    'HeartRate' : 86,\n",
    "    'SystolicBP' : 120,\n",
    "    'Potassium' : 4.3,\n",
    "    'Temperature' : 37.8,\n",
    "    'White_Blood_Cell' : 9,\n",
    "    'Sodium' : 140,\n",
    "    'Bicarbonate' : 26,\n",
    "    'BloodUreaNitrogen' : 4.7,\n",
    "    'Glasgow_Coma' : 3,\n",
    "    'Birillium' : 0.2,\n",
    "    'Urine' : 150,\n",
    "    'Mech_Vent' : 0,\n",
    "    'SHIFTS_LEFT' : 0,\n",
    "    'HOURS_IN' : 0\n",
    "}\n",
    "df_all = df_all.fillna(value=imputdict)"
   ]
  },
  {
   "cell_type": "code",
   "execution_count": 14,
   "metadata": {},
   "outputs": [],
   "source": [
    "df_all = df_all[['HeartRate', 'SystolicBP', 'Potassium',\n",
    "       'Temperature', 'White_Blood_Cell', 'Sodium', 'Bicarbonate',\n",
    "       'Glasgow_Coma', 'Birillium', 'BloodUreaNitrogen', 'Urine', 'Mech_Vent',\n",
    "        'HeartRateMask', 'SystolicBPMask', 'PotassiumMask', 'TemperatureMask',\n",
    "       'White_Blood_CellMask', 'SodiumMask', 'BicarbonateMask',\n",
    "       'Glasgow_ComaMask', 'BirilliumMask', 'BloodUreaNitrogenMask',\n",
    "       'UrineMask', 'Mech_VentMask', 'HADM_ID', 'blood and blood-forming organs', 'circulatory', 'congenital',\n",
    "       'digestive', 'endocrine, metabolic and immunity',\n",
    "       'external causes of injury and supplemental classification',\n",
    "       'genitourinary', 'ill-defined', 'infectious and parasitic',\n",
    "       'injury and poisoning', 'mental', 'musculoskeletal', 'neoplasms',\n",
    "       'nervous', 'perinatal period', 'pregnancy, childbirth, and puerperium',\n",
    "       'respiratory', 'skin and subcutaneous tissue', 'EMERGENCY', 'URGENT',\n",
    "       'AGE BIN', 'Age Bin_2', 'Age Bin_3', 'Age Bin_4', 'Age Bin_5',\n",
    "       'Age Bin_6', 'Age Bin_7', 'Age Bin_8', 'Age Bin_9', 'Age Bin_10',\n",
    "       'Age Bin_11', 'Age Bin_12', 'Age Bin_13', 'Age Bin_14', 'Age Bin_15',\n",
    "       'Age Bin_16', 'HOURS_IN', 'HOURS_LEFT', 'LOS']]"
   ]
  },
  {
   "cell_type": "code",
   "execution_count": 15,
   "metadata": {},
   "outputs": [],
   "source": [
    "df_all = df_all.dropna()"
   ]
  },
  {
   "cell_type": "code",
   "execution_count": 16,
   "metadata": {},
   "outputs": [],
   "source": [
    "df_all = df_all.drop(df_all[df_all.HOURS_IN > 336].index)"
   ]
  },
  {
   "cell_type": "code",
   "execution_count": 17,
   "metadata": {},
   "outputs": [
    {
     "data": {
      "text/plain": [
       "Index(['HeartRate', 'SystolicBP', 'Potassium', 'Temperature',\n",
       "       'White_Blood_Cell', 'Sodium', 'Bicarbonate', 'Glasgow_Coma',\n",
       "       'Birillium', 'BloodUreaNitrogen', 'Urine', 'Mech_Vent', 'HeartRateMask',\n",
       "       'SystolicBPMask', 'PotassiumMask', 'TemperatureMask',\n",
       "       'White_Blood_CellMask', 'SodiumMask', 'BicarbonateMask',\n",
       "       'Glasgow_ComaMask', 'BirilliumMask', 'BloodUreaNitrogenMask',\n",
       "       'UrineMask', 'Mech_VentMask', 'HADM_ID',\n",
       "       'blood and blood-forming organs', 'circulatory', 'congenital',\n",
       "       'digestive', 'endocrine, metabolic and immunity',\n",
       "       'external causes of injury and supplemental classification',\n",
       "       'genitourinary', 'ill-defined', 'infectious and parasitic',\n",
       "       'injury and poisoning', 'mental', 'musculoskeletal', 'neoplasms',\n",
       "       'nervous', 'perinatal period', 'pregnancy, childbirth, and puerperium',\n",
       "       'respiratory', 'skin and subcutaneous tissue', 'EMERGENCY', 'URGENT',\n",
       "       'AGE BIN', 'Age Bin_2', 'Age Bin_3', 'Age Bin_4', 'Age Bin_5',\n",
       "       'Age Bin_6', 'Age Bin_7', 'Age Bin_8', 'Age Bin_9', 'Age Bin_10',\n",
       "       'Age Bin_11', 'Age Bin_12', 'Age Bin_13', 'Age Bin_14', 'Age Bin_15',\n",
       "       'Age Bin_16', 'HOURS_IN', 'HOURS_LEFT', 'LOS'],\n",
       "      dtype='object')"
      ]
     },
     "execution_count": 17,
     "metadata": {},
     "output_type": "execute_result"
    }
   ],
   "source": [
    "df_all.columns"
   ]
  },
  {
   "cell_type": "code",
   "execution_count": 18,
   "metadata": {},
   "outputs": [],
   "source": [
    "df_all.to_csv(r'/Users/alex/df_all.csv')"
   ]
  },
  {
   "cell_type": "code",
   "execution_count": 143,
   "metadata": {},
   "outputs": [],
   "source": [
    "HR = df_all[['HADM_ID','HeartRate', 'HOURS_IN', 'HOURS_LEFT', 'LOS', 'HeartRateMask']]\n",
    "BP = df_all[['HADM_ID','SystolicBP', 'HOURS_IN', 'HOURS_LEFT', 'LOS', 'SystolicBPMask']]\n",
    "Pot = df_all[['HADM_ID','Potassium', 'HOURS_IN', 'HOURS_LEFT', 'LOS', 'PotassiumMask']]\n",
    "Temp = df_all[['HADM_ID','Temperature', 'HOURS_IN', 'HOURS_LEFT', 'LOS', 'TemperatureMask']]\n",
    "WBC = df_all[['HADM_ID','White_Blood_Cell', 'HOURS_IN', 'HOURS_LEFT', 'LOS', 'White_Blood_CellMask']]\n",
    "Na = df_all[['HADM_ID','Sodium', 'HOURS_IN', 'HOURS_LEFT', 'LOS', 'SodiumMask']]\n",
    "Bi = df_all[['HADM_ID','Bicarbonate', 'HOURS_IN', 'HOURS_LEFT', 'LOS', 'BicarbonateMask']]\n",
    "Glas = df_all[['HADM_ID','Glasgow_Coma', 'HOURS_IN', 'HOURS_LEFT', 'LOS', 'Glasgow_ComaMask']]\n",
    "Biril = df_all[['HADM_ID','Birillium', 'HOURS_IN', 'HOURS_LEFT', 'LOS', 'BirilliumMask']]\n",
    "BUN = df_all[['HADM_ID','BloodUreaNitrogen', 'HOURS_IN', 'HOURS_LEFT', 'LOS', 'BloodUreaNitrogenMask']]\n",
    "Urine = df_all[['HADM_ID','Urine', 'HOURS_IN', 'HOURS_LEFT', 'LOS', 'UrineMask']]\n",
    "Mech_Vent = df_all[['HADM_ID','Mech_Vent', 'HOURS_IN', 'HOURS_LEFT', 'LOS', 'Mech_VentMask']]"
   ]
  },
  {
   "cell_type": "code",
   "execution_count": 144,
   "metadata": {},
   "outputs": [],
   "source": [
    "def makeset(data, value):\n",
    "    length = 336\n",
    "    hadmlist = data['HADM_ID'].unique()\n",
    "    #hadmlist = hadmlist[0:1000]\n",
    "    print(len(hadmlist))\n",
    "    timeline = pd.DataFrame({'HADM_ID': hadmlist},columns = names)\n",
    "    mask = pd.DataFrame({'HADM_ID': hadmlist},columns = names)\n",
    "    \n",
    "    y = []\n",
    "    c = []\n",
    "    for i in range(0,length):\n",
    "        c.append(i)\n",
    "\n",
    "    y.append(c)\n",
    "    for i in range(0, len(hadmlist)-1):\n",
    "        df = data[data['HADM_ID'] == hadmlist[i]]\n",
    "        lst = []\n",
    "        counter = 0\n",
    "        for j in range(1, (len(df)-1)):\n",
    "            timein = int(df.iloc[j, 4])\n",
    "            value = int(df.iloc[j, 1])\n",
    "            pos = int(df.iloc[j+1, 2]) -1\n",
    "            left = int(df.iloc[j, 3])\n",
    "            if pos > length:\n",
    "                pass\n",
    "            else:\n",
    "                timeline.iloc[i, pos] = value\n",
    "                mask.iloc[i, pos] = 1\n",
    "                lst.append(left)\n",
    "            if timein < length:\n",
    "                timeline.iloc[i, timein] = -1\n",
    "\n",
    "        y.append(lst)\n",
    "        \n",
    "    timeline = timeline.iloc[:, 1:]\n",
    "    mask = mask.iloc[:, 1:]\n",
    "    mask = mask.fillna(0)\n",
    "    timeline = timeline.ffill(axis = 1)\n",
    "    \n",
    "    timeline = timeline.fillna(value=value)\n",
    "    \n",
    "    return timeline, mask, y"
   ]
  },
  {
   "cell_type": "code",
   "execution_count": 145,
   "metadata": {},
   "outputs": [
    {
     "name": "stdout",
     "output_type": "stream",
     "text": [
      "1000\n",
      "1000\n",
      "1000\n",
      "1000\n",
      "1000\n",
      "1000\n",
      "1000\n",
      "1000\n"
     ]
    }
   ],
   "source": [
    "HR = makeset(HR, 86)\n",
    "BP = makeset(BP, 120)\n",
    "Pot = makeset(Pot, 4.3)\n",
    "Temp = makeset(Temp, 37.8)\n",
    "WBC = makeset(WBC, 9)\n",
    "Na = makeset(Na, 140)\n",
    "Bi = makeset(Bi, 26)\n",
    "Glas = makeset(Glas, 3)\n",
    "Mech_Vent = makeset(Mech_Vent, 0)\n",
    "Biril = makeset(Biril, 0.2)\n",
    "Urine = makeset(Urine, 150)\n",
    "BUN = makeset(BUN, 4.7)"
   ]
  },
  {
   "cell_type": "code",
   "execution_count": 146,
   "metadata": {},
   "outputs": [],
   "source": [
    "y = HR[2]"
   ]
  },
  {
   "cell_type": "code",
   "execution_count": 147,
   "metadata": {},
   "outputs": [],
   "source": [
    "lst = [HR, BP, Pot, Temp, WBC, Na, Bi, Glas]\n",
    "lstdata = ['HR', 'BP', 'Pot', 'Temp', 'WBC', 'Na', 'Bi', 'Glas']\n",
    "\n",
    "def makefinal(lst, lstdata):\n",
    "    binary = pd.DataFrame()\n",
    "    for i in range(0, 336):\n",
    "        j = str(i)\n",
    "        for k in range(0, len(lstdata)):\n",
    "            mname = ('m' + str(lstdata[k]) + j)\n",
    "            tname = ('t'+ lstdata[k] + j)\n",
    "            \n",
    "            binary[tname] = lst[k][0].iloc[:, i]\n",
    "            binary[mname] = lst[k][1].iloc[:, i]\n",
    "    return binary"
   ]
  },
  {
   "cell_type": "code",
   "execution_count": 148,
   "metadata": {},
   "outputs": [],
   "source": [
    "binary = makefinal(lst, lstdata)"
   ]
  },
  {
   "cell_type": "code",
   "execution_count": 149,
   "metadata": {},
   "outputs": [],
   "source": [
    "binary = np.asarray(binary)"
   ]
  },
  {
   "cell_type": "code",
   "execution_count": 150,
   "metadata": {},
   "outputs": [
    {
     "name": "stdout",
     "output_type": "stream",
     "text": [
      "850\n",
      "150\n"
     ]
    }
   ],
   "source": [
    "from sklearn.model_selection import train_test_split\n",
    "train, test = train_test_split(binary, test_size=0.15, shuffle = False)\n",
    "\n",
    "print(train.shape[0])\n",
    "print(test.shape[0])\n",
    "\n",
    "scaler = StandardScaler()\n",
    "\n",
    "trnx = scaler.fit_transform(train)\n",
    "tstx = scaler.transform(test)"
   ]
  },
  {
   "cell_type": "code",
   "execution_count": 152,
   "metadata": {},
   "outputs": [],
   "source": [
    "from tensorflow.keras.preprocessing.sequence import pad_sequences\n",
    "y = pad_sequences(y, padding= 'post' )\n",
    "trny = y[:850]\n",
    "tsty = y[850:]"
   ]
  },
  {
   "cell_type": "code",
   "execution_count": 153,
   "metadata": {},
   "outputs": [
    {
     "data": {
      "text/plain": [
       "(1000, 503)"
      ]
     },
     "execution_count": 153,
     "metadata": {},
     "output_type": "execute_result"
    }
   ],
   "source": [
    "y.shape"
   ]
  },
  {
   "cell_type": "code",
   "execution_count": 154,
   "metadata": {},
   "outputs": [
    {
     "data": {
      "text/plain": [
       "(850, 503)"
      ]
     },
     "execution_count": 154,
     "metadata": {},
     "output_type": "execute_result"
    }
   ],
   "source": [
    "trny.shape"
   ]
  },
  {
   "cell_type": "code",
   "execution_count": 155,
   "metadata": {},
   "outputs": [
    {
     "data": {
      "text/plain": [
       "(850, 8048)"
      ]
     },
     "execution_count": 155,
     "metadata": {},
     "output_type": "execute_result"
    }
   ],
   "source": [
    "trnx.shape"
   ]
  },
  {
   "cell_type": "code",
   "execution_count": 156,
   "metadata": {},
   "outputs": [],
   "source": [
    "trnx = trnx.reshape((trnx.shape[0], 336, 24))\n",
    "tstx = tstx.reshape((tstx.shape[0], 336, 24))"
   ]
  },
  {
   "cell_type": "code",
   "execution_count": 157,
   "metadata": {},
   "outputs": [
    {
     "data": {
      "text/plain": [
       "(850, 503, 16)"
      ]
     },
     "execution_count": 157,
     "metadata": {},
     "output_type": "execute_result"
    }
   ],
   "source": [
    "trnx.shape"
   ]
  },
  {
   "cell_type": "code",
   "execution_count": null,
   "metadata": {},
   "outputs": [],
   "source": []
  }
 ],
 "metadata": {
  "kernelspec": {
   "display_name": "Python 3",
   "language": "python",
   "name": "python3"
  },
  "language_info": {
   "codemirror_mode": {
    "name": "ipython",
    "version": 3
   },
   "file_extension": ".py",
   "mimetype": "text/x-python",
   "name": "python",
   "nbconvert_exporter": "python",
   "pygments_lexer": "ipython3",
   "version": "3.7.3"
  }
 },
 "nbformat": 4,
 "nbformat_minor": 2
}
