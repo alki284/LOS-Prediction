{
 "cells": [
  {
   "cell_type": "code",
   "execution_count": 1,
   "metadata": {},
   "outputs": [],
   "source": [
    "import pandas as pd\n",
    "import numpy as np\n",
    "import seaborn as sns\n",
    "import matplotlib.pyplot as plt\n",
    "from datetime import datetime\n",
    "import time\n",
    "import statistics\n",
    "%matplotlib inline\n",
    "from datetime import date\n",
    "from scipy.stats import f_oneway\n",
    "from scipy.stats import skew"
   ]
  },
  {
   "cell_type": "code",
   "execution_count": 2,
   "metadata": {},
   "outputs": [],
   "source": [
    "#Files used in this analysis\n",
    "df_ADMISSIONS = pd.read_csv(\"/Users/alex/ADMISSIONS.csv\")\n",
    "df_PATIENTS = pd.read_csv(\"/Users/alex/PATIENTS.csv\")"
   ]
  },
  {
   "cell_type": "code",
   "execution_count": 3,
   "metadata": {},
   "outputs": [],
   "source": [
    "#Merge PATIENTS and ADMISSIONS based on SUBJECT_ID\n",
    "df_ADMISSIONS = df_ADMISSIONS = pd.merge(df_ADMISSIONS, df_PATIENTS,on='SUBJECT_ID',how='outer',indicator=True)"
   ]
  },
  {
   "cell_type": "code",
   "execution_count": 4,
   "metadata": {},
   "outputs": [],
   "source": [
    "#Creates 'LOS_hr' (the length of stay in hours) from the difference between admission time and discharge time\n",
    "\n",
    "date_mask = \"%Y-%m-%d %H:%M:%S\"\n",
    "time_in = []\n",
    "\n",
    "for i in range(0,58976):\n",
    "    datetime1 = datetime.strptime(df_ADMISSIONS.ADMITTIME[i], date_mask)\n",
    "    datetime2 = datetime.strptime(df_ADMISSIONS.DISCHTIME[i], date_mask)\n",
    "    d1_ts = time.mktime(datetime1.timetuple())\n",
    "    d2_ts = time.mktime(datetime2.timetuple())\n",
    "    ##seconds to hour conversion\n",
    "    amount_of_time = round((int(d2_ts-d1_ts) / 3600))\n",
    "    time_in.append(amount_of_time)\n",
    "df_ADMISSIONS['LOS_hr'] = time_in"
   ]
  },
  {
   "cell_type": "code",
   "execution_count": 5,
   "metadata": {},
   "outputs": [],
   "source": [
    "#Finds the differnce between DOB and admission time and works out the differnce in years creating 'AGE'\n",
    "\n",
    "date_mask = \"%Y-%m-%d %H:%M:%S\"\n",
    "age = []\n",
    "for i in range(0,58976):\n",
    "    datetime1 = pd.to_datetime(df_ADMISSIONS.DOB[i], format=date_mask)\n",
    "    datetime2 = pd.to_datetime(df_ADMISSIONS.ADMITTIME[i], format=date_mask)\n",
    "    days = datetime2 - datetime1\n",
    "    years_old = int(round(days.days/(366)))\n",
    "    age.append(years_old)\n",
    "df_ADMISSIONS['AGE'] = age\n",
    "\n",
    "#Patients above the HIPAA guideline age who had their age at 300 have had it changed to 91, \n",
    "#the median age of the group that fell in this category\n",
    "for i in range(0, 58976):\n",
    "    if df_ADMISSIONS.AGE[i] > 140:\n",
    "        df_ADMISSIONS[\"AGE\"].replace(df_ADMISSIONS.AGE[i], 91, inplace = True)"
   ]
  },
  {
   "cell_type": "code",
   "execution_count": 6,
   "metadata": {},
   "outputs": [
    {
     "data": {
      "text/plain": [
       "count    58976.000000\n",
       "mean       243.214121\n",
       "std        298.957991\n",
       "min        -23.000000\n",
       "25%         90.000000\n",
       "50%        155.000000\n",
       "75%        283.000000\n",
       "max       7071.000000\n",
       "Name: LOS_hr, dtype: float64"
      ]
     },
     "execution_count": 6,
     "metadata": {},
     "output_type": "execute_result"
    }
   ],
   "source": [
    "df_ADMISSIONS[\"LOS_hr\"].describe()"
   ]
  },
  {
   "cell_type": "code",
   "execution_count": 7,
   "metadata": {},
   "outputs": [],
   "source": [
    "df_ADMISSIONS = df_ADMISSIONS.drop(df_ADMISSIONS[df_ADMISSIONS.HAS_CHARTEVENTS_DATA == 0].index)\n",
    "df_ADMISSIONS = df_ADMISSIONS.drop(df_ADMISSIONS[df_ADMISSIONS.AGE < 15].index)\n",
    "df_ADMISSIONS = df_ADMISSIONS.drop(df_ADMISSIONS[df_ADMISSIONS.EXPIRE_FLAG == 1].index)\n",
    "df_ADMISSIONS = df_ADMISSIONS.drop_duplicates(subset='SUBJECT_ID', keep='first')\n",
    "df_ADMISSIONS = df_ADMISSIONS.drop(df_ADMISSIONS[df_ADMISSIONS.LOS_hr < 0].index)"
   ]
  },
  {
   "cell_type": "code",
   "execution_count": 8,
   "metadata": {},
   "outputs": [
    {
     "data": {
      "text/plain": [
       "count    22918.000000\n",
       "mean       215.997338\n",
       "std        225.197525\n",
       "min          0.000000\n",
       "25%         96.000000\n",
       "50%        153.000000\n",
       "75%        254.000000\n",
       "max       4867.000000\n",
       "Name: LOS_hr, dtype: float64"
      ]
     },
     "execution_count": 8,
     "metadata": {},
     "output_type": "execute_result"
    }
   ],
   "source": [
    "df_ADMISSIONS['LOS_hr'].describe()"
   ]
  },
  {
   "cell_type": "code",
   "execution_count": 9,
   "metadata": {},
   "outputs": [
    {
     "data": {
      "image/png": "[encoded data removed]",
      "text/plain": [
       "<Figure size 432x288 with 1 Axes>"
      ]
     },
     "metadata": {
      "needs_background": "light"
     },
     "output_type": "display_data"
    }
   ],
   "source": [
    "plt.hist(df_ADMISSIONS['LOS_hr'], bins=200, color = 'teal')\n",
    "plt.ylabel('Frequency')\n",
    "plt.xlabel('Length of Stay (hours)')\n",
    "plt.title('Frequency of LOS in hours \\n(Maximum shown: 1000 hours)')\n",
    "plt.xlim(0, 1000)\n",
    "plt.show();"
   ]
  },
  {
   "cell_type": "code",
   "execution_count": 10,
   "metadata": {},
   "outputs": [
    {
     "data": {
      "text/plain": [
       "4.712024031861701"
      ]
     },
     "execution_count": 10,
     "metadata": {},
     "output_type": "execute_result"
    }
   ],
   "source": [
    "skew(df_ADMISSIONS['LOS_hr'])"
   ]
  },
  {
   "cell_type": "code",
   "execution_count": 11,
   "metadata": {},
   "outputs": [
    {
     "data": {
      "image/png": "[encoded data removed]",
      "text/plain": [
       "<Figure size 432x288 with 1 Axes>"
      ]
     },
     "metadata": {
      "needs_background": "light"
     },
     "output_type": "display_data"
    }
   ],
   "source": [
    "plt.hist(df_ADMISSIONS.AGE, bins = 76, color = 'purple')\n",
    "plt.title('Frequency of Patients Admitted in Relation to Age')\n",
    "plt.ylabel('Frequency')\n",
    "plt.xlabel('Age (Years)')\n",
    "plt.show()"
   ]
  },
  {
   "cell_type": "code",
   "execution_count": 12,
   "metadata": {},
   "outputs": [
    {
     "data": {
      "text/plain": [
       "count    22918.000000\n",
       "mean        58.616590\n",
       "std         17.589276\n",
       "min         15.000000\n",
       "25%         47.000000\n",
       "50%         60.000000\n",
       "75%         72.000000\n",
       "max         91.000000\n",
       "Name: AGE, dtype: float64"
      ]
     },
     "execution_count": 12,
     "metadata": {},
     "output_type": "execute_result"
    }
   ],
   "source": [
    "df_ADMISSIONS.AGE.describe()"
   ]
  },
  {
   "cell_type": "code",
   "execution_count": 35,
   "metadata": {},
   "outputs": [],
   "source": [
    "df_ADMISSIONS = df_ADMISSIONS.drop(columns = ['index','level_0', 'ROW_ID_x' ])"
   ]
  },
  {
   "cell_type": "code",
   "execution_count": 36,
   "metadata": {},
   "outputs": [
    {
     "data": {
      "text/plain": [
       "Index(['SUBJECT_ID', 'HADM_ID', 'ADMITTIME', 'DISCHTIME', 'DEATHTIME',\n",
       "       'ADMISSION_TYPE', 'ADMISSION_LOCATION', 'DISCHARGE_LOCATION',\n",
       "       'INSURANCE', 'LANGUAGE', 'RELIGION', 'MARITAL_STATUS', 'ETHNICITY',\n",
       "       'EDREGTIME', 'EDOUTTIME', 'DIAGNOSIS', 'HOSPITAL_EXPIRE_FLAG',\n",
       "       'HAS_CHARTEVENTS_DATA', 'ROW_ID_y', 'GENDER', 'DOB', 'DOD', 'DOD_HOSP',\n",
       "       'DOD_SSN', 'EXPIRE_FLAG', '_merge', 'LOS_hr', 'AGE'],\n",
       "      dtype='object')"
      ]
     },
     "execution_count": 36,
     "metadata": {},
     "output_type": "execute_result"
    }
   ],
   "source": [
    "df_ADMISSIONS.columns"
   ]
  },
  {
   "cell_type": "code",
   "execution_count": 38,
   "metadata": {},
   "outputs": [],
   "source": [
    "agelst = []\n",
    "for i in range(0,22918):\n",
    "    if df_ADMISSIONS.iloc[i, -1] < 40:\n",
    "        agelst.append(1)\n",
    "    elif df_ADMISSIONS.iloc[i, -1] > 39 and df_ADMISSIONS.iloc[i, -1] < 60:\n",
    "        agelst.append(2)\n",
    "    elif df_ADMISSIONS.iloc[i, -1] > 59 and df_ADMISSIONS.iloc[i, -1] < 70:\n",
    "        agelst.append(3)\n",
    "    elif df_ADMISSIONS.iloc[i, -1] > 69 and df_ADMISSIONS.iloc[i, -1] < 75:\n",
    "        agelst.append(4)\n",
    "    elif df_ADMISSIONS.iloc[i, -1] > 74 and df_ADMISSIONS.iloc[i, -1] < 80:\n",
    "        agelst.append(5)\n",
    "    elif df_ADMISSIONS.iloc[i, -1] > 79:\n",
    "        agelst.append(6)"
   ]
  },
  {
   "cell_type": "code",
   "execution_count": 40,
   "metadata": {},
   "outputs": [],
   "source": [
    "df_ADMISSIONS['AGEdict'] = agelst"
   ]
  },
  {
   "cell_type": "code",
   "execution_count": 43,
   "metadata": {},
   "outputs": [
    {
     "data": {
      "text/plain": [
       "40-59    7744\n",
       "60-69    4968\n",
       "<40      3500\n",
       "> 79     2791\n",
       "70-74    2033\n",
       "74-79    1882\n",
       "Name: AGEdict, dtype: int64"
      ]
     },
     "execution_count": 43,
     "metadata": {},
     "output_type": "execute_result"
    }
   ],
   "source": [
    "age_dictionary = {\n",
    "    1 : '<40',\n",
    "    2 : '40-59',\n",
    "    3 : '60-69',\n",
    "    4 : '70-74',\n",
    "    5 : '74-79',\n",
    "    6 : '> 79'\n",
    "}\n",
    "df_ADMISSIONS.AGEdict.replace(age_dictionary, inplace=True)\n",
    "df_ADMISSIONS.AGEdict.value_counts()"
   ]
  },
  {
   "cell_type": "code",
   "execution_count": 44,
   "metadata": {},
   "outputs": [
    {
     "data": {
      "image/png": "[encoded data removed]",
      "text/plain": [
       "<Figure size 576x288 with 1 Axes>"
      ]
     },
     "metadata": {
      "needs_background": "light"
     },
     "output_type": "display_data"
    }
   ],
   "source": [
    "def boxplot_los_groupby(variable, los_range=(-1, 30) ,size=(8,4)):\n",
    "    ''' \n",
    "    Boxplot of LOS by df categorical series name \n",
    "    '''\n",
    "    results = df_ADMISSIONS[[variable, 'LOS_hr']].groupby(variable).median().reset_index()\n",
    "\n",
    "    categories = results[variable].values.tolist()\n",
    "\n",
    "    hist_data = []\n",
    "    for cat in categories:\n",
    "        hist_data.append(df_ADMISSIONS['LOS_hr'].loc[df_ADMISSIONS[variable]==cat].values)\n",
    "    \n",
    "    fig, ax = plt.subplots(figsize=size)\n",
    "    ax.boxplot(hist_data, 0, '', vert=False)\n",
    "    ax.set_yticklabels(categories)\n",
    "    ax.set_ylabel('{} Categories'.format(variable))\n",
    "    ax.set_xlabel('LOS (hours)')\n",
    "    ax.tick_params(left=False, right=False) \n",
    "    ax.set_title('LOS comparison within {} '.format(variable))\n",
    "    plt.tight_layout()\n",
    "    plt.show();\n",
    "    \n",
    "boxplot_los_groupby('AGEdict', los_range=(-1, 300))"
   ]
  },
  {
   "cell_type": "code",
   "execution_count": 45,
   "metadata": {},
   "outputs": [
    {
     "name": "stdout",
     "output_type": "stream",
     "text": [
      "['40-59', '60-69', '70-74', '74-79', '<40', '> 79']\n"
     ]
    },
    {
     "data": {
      "text/plain": [
       "F_onewayResult(statistic=1.1263825003958807, pvalue=0.32423184556055834)"
      ]
     },
     "execution_count": 45,
     "metadata": {},
     "output_type": "execute_result"
    }
   ],
   "source": [
    "results = df_ADMISSIONS[['AGEdict', 'LOS_hr']].groupby('AGEdict').median().reset_index()\n",
    "categories = results['AGEdict'].values.tolist()\n",
    "arrays = []\n",
    "for cat in categories:\n",
    "    arrays.append(df_ADMISSIONS['LOS_hr'].loc[df_ADMISSIONS['AGEdict']==cat].values)\n",
    "print(categories)\n",
    "f_oneway(arrays[0],arrays[1],arrays[2])"
   ]
  },
  {
   "cell_type": "code",
   "execution_count": 110,
   "metadata": {},
   "outputs": [
    {
     "data": {
      "text/plain": [
       "MARRIED           11422\n",
       "SINGLE             6439\n",
       "MARRIAGE ENDED     3816\n",
       "UNKNOWN             140\n",
       "Name: MARITAL_STATUS, dtype: int64"
      ]
     },
     "execution_count": 110,
     "metadata": {},
     "output_type": "execute_result"
    }
   ],
   "source": [
    "marriage_dictionary = {\n",
    "   \"SINGLE\" : \"SINGLE\",\n",
    "   \"MARRIED\" : \"MARRIED\",\n",
    "   \"DIVORCED\" : \"MARRIAGE ENDED\",\n",
    "   \"WIDOWED\" : \"MARRIAGE ENDED\",\n",
    "   \"SEPARATED\" : \"MARRIAGE ENDED\",\n",
    "   \"UNKNOWN (DEFAULT)\" : \"UNKNOWN\",\n",
    "   \"LIFE PARTNER\" : \"MARRIED\"\n",
    "                      }\n",
    "\n",
    "df_ADMISSIONS.MARITAL_STATUS.replace(marriage_dictionary, inplace=True)\n",
    "df_ADMISSIONS.MARITAL_STATUS.value_counts()"
   ]
  },
  {
   "cell_type": "code",
   "execution_count": 111,
   "metadata": {},
   "outputs": [
    {
     "data": {
      "image/png": "[encoded data removed]",
      "text/plain": [
       "<Figure size 576x288 with 1 Axes>"
      ]
     },
     "metadata": {
      "needs_background": "light"
     },
     "output_type": "display_data"
    }
   ],
   "source": [
    "boxplot_los_groupby('MARITAL_STATUS', los_range=(-1, 300))"
   ]
  },
  {
   "cell_type": "code",
   "execution_count": 112,
   "metadata": {},
   "outputs": [
    {
     "name": "stdout",
     "output_type": "stream",
     "text": [
      "['MARRIAGE ENDED', 'MARRIED', 'SINGLE', 'UNKNOWN']\n"
     ]
    },
    {
     "data": {
      "text/plain": [
       "F_onewayResult(statistic=14.924684294228008, pvalue=3.332354283453077e-07)"
      ]
     },
     "execution_count": 112,
     "metadata": {},
     "output_type": "execute_result"
    }
   ],
   "source": [
    "results = df_ADMISSIONS[['MARITAL_STATUS', 'LOS_hr']].groupby('MARITAL_STATUS').median().reset_index()\n",
    "categories = results['MARITAL_STATUS'].values.tolist()\n",
    "arrays = []\n",
    "for cat in categories:\n",
    "    arrays.append(df_ADMISSIONS['LOS_hr'].loc[df_ADMISSIONS['MARITAL_STATUS']==cat].values)\n",
    "print(categories)\n",
    "f_oneway(arrays[0],arrays[1],arrays[2])"
   ]
  },
  {
   "cell_type": "code",
   "execution_count": 113,
   "metadata": {},
   "outputs": [
    {
     "data": {
      "text/plain": [
       "WHITE       16192\n",
       "UNKNOWN      2650\n",
       "BLACK        1875\n",
       "HISPANIC      952\n",
       "OTHER         658\n",
       "ASIAN         591\n",
       "Name: ETHNICITY, dtype: int64"
      ]
     },
     "execution_count": 113,
     "metadata": {},
     "output_type": "execute_result"
    }
   ],
   "source": [
    "## Unknown 0, White 1, Black 2, Hispanic 3, Asian 4, Other 5\n",
    "ethnicity_dictionary = {\n",
    "    'WHITE' : 'WHITE',\n",
    "    'UNKNOWN/NOT SPECIFIED' : 'UNKNOWN',\n",
    "    'MULTI RACE ETHNICITY' : 'UNKNOWN',\n",
    "    'BLACK/AFRICAN AMERICAN' : 'BLACK',\n",
    "    'HISPANIC OR LATINO' : 'HISPANIC',\n",
    "    'PATIENT DECLINED TO ANSWER' : 'UNKNOWN',\n",
    "    'ASIAN': 'ASIAN',\n",
    "    'OTHER' : 'OTHER',\n",
    "    'HISPANIC/LATINO - GUATEMALAN' : 'HISPANIC',\n",
    "    'ASIAN - VIETNAMESE' : 'ASIAN',\n",
    "    'AMERICAN INDIAN/ALASKA NATIVE' : 'OTHER',\n",
    "    'WHITE - RUSSIAN' : 'WHITE',\n",
    "    'HISPANIC/LATINO - PUERTO RICAN' : 'HISPANIC',\n",
    "    'ASIAN - ASIAN INDIAN' : 'ASIAN',\n",
    "    'HISPANIC/LATINO - SALVADORAN' : 'HISPANIC',\n",
    "    'HISPANIC/LATINO - DOMINICAN' : 'HISPANIC',\n",
    "    'UNABLE TO OBTAIN' : 'UNKNOWN',\n",
    "    'ASIAN - CHINESE' : 'ASIAN',\n",
    "    'BLACK/CAPE VERDEAN' : 'BLACK',\n",
    "    'WHITE - OTHER EUROPEAN' : 'WHITE',\n",
    "    'PORTUGUESE' : 'WHITE',\n",
    "    'BLACK/HAITIAN' : 'BLACK',\n",
    "    'SOUTH AMERICAN' : 'HISPANIC',\n",
    "    'CARIBBEAN ISLAND' : 'BLACK',\n",
    "    'WHITE - EASTERN EUROPEAN' : 'WHITE',\n",
    "    'ASIAN - FILIPINO' : 'ASIAN',\n",
    "    'ASIAN - CAMBODIAN' : 'ASIAN',\n",
    "    'HISPANIC/LATINO - CENTRAL AMERICAN (OTHER)' : 'HISPANIC',\n",
    "    'WHITE - BRAZILIAN' : 'WHITE',\n",
    "    'HISPANIC/LATINO - COLOMBIAN' : 'HISPANIC',\n",
    "    'ASIAN - JAPANESE' : 'ASIAN',\n",
    "    'NATIVE HAWAIIAN OR OTHER PACIFIC ISLANDER' : 'OTHER',\n",
    "    'BLACK/AFRICAN' : 'BLACK',\n",
    "    'ASIAN - THAI' : 'ASIAN',\n",
    "    'HISPANIC/LATINO - HONDURAN' : 'HISPANIC',\n",
    "    'MIDDLE EASTERN' : 'OTHER',\n",
    "    'ASIAN - OTHER' : 'ASIAN',\n",
    "    'HISPANIC/LATINO - CUBAN' : 'HISPANIC',\n",
    "    'HISPANIC/LATINO - MEXICAN' : 'HISPANIC',\n",
    "    'ASIAN - KOREAN' : 'ASIAN',\n",
    "    'AMERICAN INDIAN/ALASKA NATIVE FEDERALLY RECOGNIZED TRIBE' : 'OTHER'\n",
    "                       }\n",
    "df_ADMISSIONS.ETHNICITY.replace(ethnicity_dictionary, inplace=True)\n",
    "df_ADMISSIONS.ETHNICITY.value_counts()"
   ]
  },
  {
   "cell_type": "code",
   "execution_count": 114,
   "metadata": {},
   "outputs": [
    {
     "data": {
      "image/png": "[encoded data removed]",
      "text/plain": [
       "<Figure size 576x288 with 1 Axes>"
      ]
     },
     "metadata": {
      "needs_background": "light"
     },
     "output_type": "display_data"
    }
   ],
   "source": [
    "boxplot_los_groupby('ETHNICITY')"
   ]
  },
  {
   "cell_type": "code",
   "execution_count": 115,
   "metadata": {},
   "outputs": [
    {
     "name": "stdout",
     "output_type": "stream",
     "text": [
      "['ASIAN', 'BLACK', 'HISPANIC', 'OTHER', 'UNKNOWN', 'WHITE']\n"
     ]
    },
    {
     "data": {
      "text/plain": [
       "F_onewayResult(statistic=1.7023465148890136, pvalue=0.1463564467198609)"
      ]
     },
     "execution_count": 115,
     "metadata": {},
     "output_type": "execute_result"
    }
   ],
   "source": [
    "results = df_ADMISSIONS[['ETHNICITY', 'LOS_hr']].groupby('ETHNICITY').median().reset_index()\n",
    "categories = results['ETHNICITY'].values.tolist()\n",
    "arrays = []\n",
    "for cat in categories:\n",
    "    arrays.append(df_ADMISSIONS['LOS_hr'].loc[df_ADMISSIONS['ETHNICITY']==cat].values)\n",
    "print(categories)\n",
    "f_oneway(arrays[0],arrays[1],arrays[2],arrays[3],arrays[5])"
   ]
  },
  {
   "cell_type": "code",
   "execution_count": 116,
   "metadata": {},
   "outputs": [
    {
     "data": {
      "image/png": "[encoded data removed]",
      "text/plain": [
       "<Figure size 576x288 with 1 Axes>"
      ]
     },
     "metadata": {
      "needs_background": "light"
     },
     "output_type": "display_data"
    }
   ],
   "source": [
    "# UNKNOWN = 0, CATHOLIC = 1, PROTESTANT = 2, JEWISH = 3, CHRISTIAN OTHER = 4, NON-CHRISTIAN OTHER = 5\n",
    "religion_dictionary = {\n",
    "    'UNOBTAINABLE' : 'UNKNOWN',\n",
    "    'CATHOLIC' : 'CATHOLIC',\n",
    "    'PROTESTANT QUAKER' : 'PROTESTANT',\n",
    "    'NOT SPECIFIED' : 'UNKNOWN',\n",
    "    'JEWISH' : 'JEWISH',\n",
    "    'BUDDHIST' : 'NON-CHRISTIAN OTHER',\n",
    "    'OTHER' : 'UNKNOWN',\n",
    "    \"JEHOVAH'S WITNESS\" : 'CHRISTIAN OTHER',\n",
    "    'GREEK ORTHODOX' : 'CHRISTIAN OTHER',\n",
    "    'EPISCOPALIAN' : 'CHRISTIAN OTHER',\n",
    "    'HINDU' : 'NON-CHRISTIAN OTHER',\n",
    "    'CHRISTIAN SCIENTIST' : 'CHRISTIAN OTHER',\n",
    "    'HEBREW' : 'JEWISH',\n",
    "    'METHODIST' : 'CHRISTIAN OTHER',\n",
    "    'UNITARIAN-UNIVERSALIST' : 'CHRISTIAN OTHER',\n",
    "    'BAPTIST' : 'CHRISTIAN OTHER',\n",
    "    '7TH DAY ADVENTIST' : 'CHRISTIAN OTHER',\n",
    "    'MUSLIM' : 'NON-CHRISTIAN OTHER',\n",
    "    'ROMANIAN EAST. ORTH' : 'CHRISTIAN OTHER',\n",
    "    'LUTHERAN' : 'CHRISTIAN OTHER'\n",
    "}\n",
    "df_ADMISSIONS.RELIGION.replace(religion_dictionary, inplace=True)\n",
    "df_ADMISSIONS.RELIGION.value_counts()\n",
    "boxplot_los_groupby('RELIGION')"
   ]
  },
  {
   "cell_type": "code",
   "execution_count": 117,
   "metadata": {},
   "outputs": [
    {
     "name": "stdout",
     "output_type": "stream",
     "text": [
      "['CATHOLIC', 'CHRISTIAN OTHER', 'JEWISH', 'NON-CHRISTIAN OTHER', 'PROTESTANT', 'UNKNOWN']\n"
     ]
    },
    {
     "data": {
      "text/plain": [
       "F_onewayResult(statistic=6.438830295090239, pvalue=3.583280065483362e-05)"
      ]
     },
     "execution_count": 117,
     "metadata": {},
     "output_type": "execute_result"
    }
   ],
   "source": [
    "results = df_ADMISSIONS[['RELIGION', 'LOS_hr']].groupby('RELIGION').median().reset_index()\n",
    "categories = results['RELIGION'].values.tolist()\n",
    "arrays = []\n",
    "for cat in categories:\n",
    "    arrays.append(df_ADMISSIONS['LOS_hr'].loc[df_ADMISSIONS['RELIGION']==cat].values)\n",
    "print(categories)\n",
    "f_oneway(arrays[0],arrays[1],arrays[2],arrays[3],arrays[4])"
   ]
  },
  {
   "cell_type": "code",
   "execution_count": 118,
   "metadata": {},
   "outputs": [
    {
     "data": {
      "image/png": "[encoded data removed]",
      "text/plain": [
       "<Figure size 576x288 with 1 Axes>"
      ]
     },
     "metadata": {
      "needs_background": "light"
     },
     "output_type": "display_data"
    }
   ],
   "source": [
    "admission_location_dictionary = {\n",
    "    'EMERGENCY ROOM ADMIT' : 'EMERGENCY ROOM ADMIT',\n",
    "    'PHYS REFERRAL/NORMAL DELI' : 'PHYS REFERRAL/NORMAL DELI',\n",
    "    'TRANSFER FROM HOSP/EXTRAM' : 'TRANSFER FROM HOSP/EXTRAM',\n",
    "    'CLINIC REFERRAL/PREMATURE' : 'CLINIC REFERRAL/PREMATURE', \n",
    "    'TRANSFER FROM SKILLED NUR' : 'TRANSFER FROM SKILLED NUR',\n",
    "    'HMO REFERRAL/SICK' : 'HMO REFERRAL/SICK',\n",
    "    '** INFO NOT AVAILABLE **' : 'UNKNOWN',\n",
    "    'TRANSFER FROM OTHER HEALT' : 'TRANSFER FROM OTHER HEALT',\n",
    "    'TRSF WITHIN THIS FACILITY' : 'TRSF WITHIN THIS FACILITY'\n",
    "}\n",
    "df_ADMISSIONS.ADMISSION_LOCATION.replace(admission_location_dictionary, inplace=True)\n",
    "df_ADMISSIONS.ADMISSION_LOCATION.value_counts()\n",
    "boxplot_los_groupby('ADMISSION_LOCATION')"
   ]
  },
  {
   "cell_type": "code",
   "execution_count": 119,
   "metadata": {},
   "outputs": [
    {
     "name": "stdout",
     "output_type": "stream",
     "text": [
      "['CLINIC REFERRAL/PREMATURE', 'EMERGENCY ROOM ADMIT', 'HMO REFERRAL/SICK', 'PHYS REFERRAL/NORMAL DELI', 'TRANSFER FROM HOSP/EXTRAM', 'TRANSFER FROM OTHER HEALT', 'TRANSFER FROM SKILLED NUR', 'TRSF WITHIN THIS FACILITY', 'UNKNOWN']\n"
     ]
    },
    {
     "data": {
      "text/plain": [
       "F_onewayResult(statistic=28.368543476114173, pvalue=3.445112637836628e-39)"
      ]
     },
     "execution_count": 119,
     "metadata": {},
     "output_type": "execute_result"
    }
   ],
   "source": [
    "results = df_ADMISSIONS[['ADMISSION_LOCATION', 'LOS_hr']].groupby('ADMISSION_LOCATION').median().reset_index()\n",
    "categories = results['ADMISSION_LOCATION'].values.tolist()\n",
    "arrays = []\n",
    "for cat in categories:\n",
    "    arrays.append(df_ADMISSIONS['LOS_hr'].loc[df_ADMISSIONS['ADMISSION_LOCATION']==cat].values)\n",
    "print(categories)\n",
    "f_oneway(arrays[0],arrays[1],arrays[2],arrays[3],arrays[4],arrays[5],arrays[6],arrays[7])"
   ]
  },
  {
   "cell_type": "code",
   "execution_count": 120,
   "metadata": {},
   "outputs": [
    {
     "data": {
      "image/png": "[encoded data removed]",
      "text/plain": [
       "<Figure size 576x288 with 1 Axes>"
      ]
     },
     "metadata": {
      "needs_background": "light"
     },
     "output_type": "display_data"
    }
   ],
   "source": [
    "admission_type_dictionary = {\n",
    "    'EMERGENCY' : 'EMERGENCY',\n",
    "    'ELECTIVE' : 'ELECTIVE',\n",
    "    'NEWBORN' : 'NEWBORN',\n",
    "    'URGENT' : 'URGENT'\n",
    "}\n",
    "df_ADMISSIONS.ADMISSION_TYPE.replace(admission_type_dictionary, inplace=True)\n",
    "df_ADMISSIONS.ADMISSION_TYPE.value_counts()\n",
    "boxplot_los_groupby('ADMISSION_TYPE')"
   ]
  },
  {
   "cell_type": "code",
   "execution_count": 121,
   "metadata": {},
   "outputs": [
    {
     "name": "stdout",
     "output_type": "stream",
     "text": [
      "['ELECTIVE', 'EMERGENCY', 'URGENT']\n"
     ]
    },
    {
     "data": {
      "text/plain": [
       "F_onewayResult(statistic=57.42552457755396, pvalue=1.326486075179285e-25)"
      ]
     },
     "execution_count": 121,
     "metadata": {},
     "output_type": "execute_result"
    }
   ],
   "source": [
    "results = df_ADMISSIONS[['ADMISSION_TYPE', 'LOS_hr']].groupby('ADMISSION_TYPE').median().reset_index()\n",
    "categories = results['ADMISSION_TYPE'].values.tolist()\n",
    "arrays = []\n",
    "for cat in categories:\n",
    "    arrays.append(df_ADMISSIONS['LOS_hr'].loc[df_ADMISSIONS['ADMISSION_TYPE']==cat].values)\n",
    "print(categories)\n",
    "f_oneway(arrays[0],arrays[1],arrays[2])"
   ]
  },
  {
   "cell_type": "code",
   "execution_count": 122,
   "metadata": {},
   "outputs": [
    {
     "data": {
      "image/png": "[encoded data removed]",
      "text/plain": [
       "<Figure size 576x288 with 1 Axes>"
      ]
     },
     "metadata": {
      "needs_background": "light"
     },
     "output_type": "display_data"
    }
   ],
   "source": [
    "insurance_dictionary = {\n",
    "    'Private' : 'PRIVATE', \n",
    "    'Medicare' : 'GOVERNMENT', \n",
    "    'Medicaid' : 'GOVERNMENT', \n",
    "    'Self Pay' : 'SELF-PAY', \n",
    "    'Government' : 'GOVERNMENT'\n",
    "}\n",
    "df_ADMISSIONS.INSURANCE.replace(insurance_dictionary, inplace=True)\n",
    "df_ADMISSIONS.INSURANCE.value_counts()\n",
    "boxplot_los_groupby('INSURANCE')"
   ]
  },
  {
   "cell_type": "code",
   "execution_count": 123,
   "metadata": {},
   "outputs": [
    {
     "name": "stdout",
     "output_type": "stream",
     "text": [
      "['GOVERNMENT', 'PRIVATE', 'SELF-PAY']\n"
     ]
    },
    {
     "data": {
      "text/plain": [
       "F_onewayResult(statistic=17.40533102457085, pvalue=2.7970261102822993e-08)"
      ]
     },
     "execution_count": 123,
     "metadata": {},
     "output_type": "execute_result"
    }
   ],
   "source": [
    "results = df_ADMISSIONS[['INSURANCE', 'LOS_hr']].groupby('INSURANCE').median().reset_index()\n",
    "categories = results['INSURANCE'].values.tolist()\n",
    "categories = results['INSURANCE'].values.tolist()\n",
    "arrays = []\n",
    "for cat in categories:\n",
    "    arrays.append(df_ADMISSIONS['LOS_hr'].loc[df_ADMISSIONS['INSURANCE']==cat].values)\n",
    "print(categories)\n",
    "f_oneway(arrays[0],arrays[1],arrays[2])"
   ]
  },
  {
   "cell_type": "code",
   "execution_count": 124,
   "metadata": {},
   "outputs": [
    {
     "data": {
      "image/png": "[encoded data removed]",
      "text/plain": [
       "<Figure size 576x288 with 1 Axes>"
      ]
     },
     "metadata": {
      "needs_background": "light"
     },
     "output_type": "display_data"
    }
   ],
   "source": [
    "gender_dictionary = {\n",
    "    \"M\": 'MALE',\n",
    "    \"F\" : 'FEMALE'\n",
    "}\n",
    "df_ADMISSIONS.GENDER.replace(gender_dictionary, inplace=True)\n",
    "df_ADMISSIONS.GENDER.value_counts()\n",
    "boxplot_los_groupby('GENDER')"
   ]
  },
  {
   "cell_type": "code",
   "execution_count": 125,
   "metadata": {},
   "outputs": [
    {
     "name": "stdout",
     "output_type": "stream",
     "text": [
      "['FEMALE', 'MALE']\n"
     ]
    },
    {
     "data": {
      "text/plain": [
       "F_onewayResult(statistic=0.6412821245444061, pvalue=0.42325520450974186)"
      ]
     },
     "execution_count": 125,
     "metadata": {},
     "output_type": "execute_result"
    }
   ],
   "source": [
    "results = df_ADMISSIONS[['GENDER', 'LOS_hr']].groupby('GENDER').median().reset_index()\n",
    "categories = results['GENDER'].values.tolist()\n",
    "categories = results['GENDER'].values.tolist()\n",
    "arrays = []\n",
    "for cat in categories:\n",
    "    arrays.append(df_ADMISSIONS['LOS_hr'].loc[df_ADMISSIONS['GENDER']==cat].values)\n",
    "print(categories)\n",
    "f_oneway(arrays[0],arrays[1])"
   ]
  },
  {
   "cell_type": "code",
   "execution_count": null,
   "metadata": {},
   "outputs": [],
   "source": []
  }
 ],
 "metadata": {
  "kernelspec": {
   "display_name": "Python 3",
   "language": "python",
   "name": "python3"
  },
  "language_info": {
   "codemirror_mode": {
    "name": "ipython",
    "version": 3
   },
   "file_extension": ".py",
   "mimetype": "text/x-python",
   "name": "python",
   "nbconvert_exporter": "python",
   "pygments_lexer": "ipython3",
   "version": "3.7.3"
  }
 },
 "nbformat": 4,
 "nbformat_minor": 2
}
