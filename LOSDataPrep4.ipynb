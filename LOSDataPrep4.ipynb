{
 "cells": [
  {
   "cell_type": "code",
   "execution_count": 1,
   "metadata": {},
   "outputs": [],
   "source": [
    "import pandas as pd\n",
    "import numpy as np\n",
    "import seaborn as sns\n",
    "import matplotlib.pyplot as plt\n",
    "import datetime\n",
    "import time\n",
    "import statistics\n",
    "import sklearn\n",
    "%matplotlib inline\n",
    "from datetime import date\n",
    "from scipy import stats as stats\n",
    "from sklearn import preprocessing\n",
    "from sklearn import model_selection\n",
    "from datetime import datetime, timedelta\n",
    "from tensorflow import keras as keras\n",
    "from sklearn.preprocessing import MinMaxScaler, StandardScaler\n",
    "from sklearn.model_selection import train_test_split\n",
    "from sklearn.compose import make_column_transformer\n",
    "from numpy import asarray\n",
    "from numpy import savetxt"
   ]
  },
  {
   "cell_type": "code",
   "execution_count": 2,
   "metadata": {},
   "outputs": [],
   "source": [
    "df_demo = pd.read_csv(\"/Users/alex/LOSDataDemo.csv\")"
   ]
  },
  {
   "cell_type": "code",
   "execution_count": 3,
   "metadata": {},
   "outputs": [],
   "source": [
    "demo = df_demo[['HADM_ID','blood and blood-forming organs','digestive',\n",
    "       'genitourinary', 'ill-defined', 'infectious and parasitic',\n",
    "       'injury and poisoning','nervous','respiratory', 'skin and subcutaneous tissue',\n",
    "        'MARRIAGE ENDED',\n",
    "       'MARRIED', 'SINGLE', 'UNKNOWNmarriage', 'CATHOLIC', 'CHRISTIAN OTHER',\n",
    "       'JEWISH', 'NON-CHRISTIAN OTHER', 'PROTESTANT', 'UNKNOWNreligion',\n",
    "       'GOVERNMENT', 'PRIVATE', 'SELF-PAY', 'CLINIC REFERRAL/PREMATURE',\n",
    "       'EMERGENCY ROOM ADMIT', 'HMO REFERRAL/SICK',\n",
    "       'PHYS REFERRAL/NORMAL DELI', 'TRANSFER FROM HOSP/EXTRAM',\n",
    "       'TRANSFER FROM OTHER HEALT', 'TRANSFER FROM SKILLED NUR',\n",
    "       'TRSF WITHIN THIS FACILITY', 'UNKNOWN', 'ELECTIVE', 'EMERGENCY',\n",
    "       'URGENT']]"
   ]
  },
  {
   "cell_type": "code",
   "execution_count": 4,
   "metadata": {},
   "outputs": [
    {
     "data": {
      "text/plain": [
       "(22404, 35)"
      ]
     },
     "execution_count": 4,
     "metadata": {},
     "output_type": "execute_result"
    }
   ],
   "source": [
    "demo.shape"
   ]
  },
  {
   "cell_type": "code",
   "execution_count": 5,
   "metadata": {},
   "outputs": [],
   "source": [
    "demo = demo.drop_duplicates()\n",
    "demo = demo.reset_index()"
   ]
  },
  {
   "cell_type": "code",
   "execution_count": 6,
   "metadata": {},
   "outputs": [
    {
     "data": {
      "text/plain": [
       "(22404, 36)"
      ]
     },
     "execution_count": 6,
     "metadata": {},
     "output_type": "execute_result"
    }
   ],
   "source": [
    "demo.shape"
   ]
  },
  {
   "cell_type": "code",
   "execution_count": 7,
   "metadata": {},
   "outputs": [
    {
     "data": {
      "text/plain": [
       "Index(['index', 'HADM_ID', 'blood and blood-forming organs', 'digestive',\n",
       "       'genitourinary', 'ill-defined', 'infectious and parasitic',\n",
       "       'injury and poisoning', 'nervous', 'respiratory',\n",
       "       'skin and subcutaneous tissue', 'MARRIAGE ENDED', 'MARRIED', 'SINGLE',\n",
       "       'UNKNOWNmarriage', 'CATHOLIC', 'CHRISTIAN OTHER', 'JEWISH',\n",
       "       'NON-CHRISTIAN OTHER', 'PROTESTANT', 'UNKNOWNreligion', 'GOVERNMENT',\n",
       "       'PRIVATE', 'SELF-PAY', 'CLINIC REFERRAL/PREMATURE',\n",
       "       'EMERGENCY ROOM ADMIT', 'HMO REFERRAL/SICK',\n",
       "       'PHYS REFERRAL/NORMAL DELI', 'TRANSFER FROM HOSP/EXTRAM',\n",
       "       'TRANSFER FROM OTHER HEALT', 'TRANSFER FROM SKILLED NUR',\n",
       "       'TRSF WITHIN THIS FACILITY', 'UNKNOWN', 'ELECTIVE', 'EMERGENCY',\n",
       "       'URGENT'],\n",
       "      dtype='object')"
      ]
     },
     "execution_count": 7,
     "metadata": {},
     "output_type": "execute_result"
    }
   ],
   "source": [
    "demo.columns"
   ]
  },
  {
   "cell_type": "code",
   "execution_count": 8,
   "metadata": {},
   "outputs": [],
   "source": [
    "HR = pd.read_csv(\"/Users/alex/HR.csv\")\n",
    "Temp = pd.read_csv(\"/Users/alex/Temp.csv\")\n",
    "WBC = pd.read_csv(\"/Users/alex/WBC.csv\")\n",
    "Glas = pd.read_csv(\"/Users/alex/Glas.csv\")\n",
    "Mech_Vent = pd.read_csv(\"/Users/alex/Mech_Vent.csv\")\n",
    "Biril = pd.read_csv(\"/Users/alex/Biril.csv\")\n",
    "BUN = pd.read_csv(\"/Users/alex/BUN.csv\")\n",
    "Albumin = pd.read_csv(\"/Users/alex/Albumin.csv\")\n",
    "OxySat = pd.read_csv(\"/Users/alex/OxySat.csv\")\n",
    "Platelets = pd.read_csv(\"/Users/alex/Platelets.csv\")\n",
    "RBC = pd.read_csv(\"/Users/alex/RBC.csv\")\n",
    "pH = pd.read_csv(\"/Users/alex/pH.csv\")\n",
    "Hematocrit = pd.read_csv(\"/Users/alex/Hematocrit.csv\")\n",
    "ResRate = pd.read_csv(\"/Users/alex/ResRate.csv\")\n",
    "Weight = pd.read_csv(\"/Users/alex/Weight.csv\")"
   ]
  },
  {
   "cell_type": "code",
   "execution_count": 9,
   "metadata": {},
   "outputs": [],
   "source": [
    "HR = HR.drop(columns = 'Unnamed: 0')\n",
    "Temp = Temp.drop(columns = 'Unnamed: 0')\n",
    "WBC = WBC.drop(columns = 'Unnamed: 0')\n",
    "Glas = Glas.drop(columns = 'Unnamed: 0')\n",
    "Mech_Vent = Mech_Vent.drop(columns = 'Unnamed: 0')\n",
    "Biril = Biril.drop(columns = 'Unnamed: 0')\n",
    "BUN = BUN.drop(columns = 'Unnamed: 0')\n",
    "Albumin = Albumin.drop(columns = 'Unnamed: 0')\n",
    "OxySat = OxySat.drop(columns = 'Unnamed: 0')\n",
    "Platelets = Platelets.drop(columns = 'Unnamed: 0')\n",
    "RBC = RBC.drop(columns = 'Unnamed: 0')\n",
    "pH = pH.drop(columns = 'Unnamed: 0')\n",
    "Hematocrit = Hematocrit.drop(columns = 'Unnamed: 0')\n",
    "ResRate = ResRate.drop(columns = 'Unnamed: 0')\n",
    "Weight = Weight.drop(columns = 'Unnamed: 0')"
   ]
  },
  {
   "cell_type": "code",
   "execution_count": 10,
   "metadata": {},
   "outputs": [
    {
     "data": {
      "text/plain": [
       "(22404, 672)"
      ]
     },
     "execution_count": 10,
     "metadata": {},
     "output_type": "execute_result"
    }
   ],
   "source": [
    "Albumin.shape"
   ]
  },
  {
   "cell_type": "code",
   "execution_count": 11,
   "metadata": {},
   "outputs": [
    {
     "data": {
      "text/plain": [
       "(22404, 36)"
      ]
     },
     "execution_count": 11,
     "metadata": {},
     "output_type": "execute_result"
    }
   ],
   "source": [
    "demo.shape"
   ]
  },
  {
   "cell_type": "code",
   "execution_count": 12,
   "metadata": {},
   "outputs": [],
   "source": [
    "lst = [HR, Temp, WBC, Glas, Mech_Vent, Biril, BUN, Albumin, OxySat, Platelets,\n",
    "       RBC, pH, Hematocrit, ResRate, Weight]\n",
    "lstdata = ['HR', 'Temp', 'WBC', 'Glas', 'Mech_Vent', 'Biril', 'BUN', 'Albumin', 'OxySat', 'Platelets',\n",
    "           'RBC', 'pH', 'Hematocrit', 'ResRate', 'Weight']\n",
    "demo = demo[['HADM_ID','blood and blood-forming organs', 'digestive',\n",
    "       'genitourinary', 'ill-defined', 'infectious and parasitic',\n",
    "       'injury and poisoning', 'nervous', 'respiratory',\n",
    "       'skin and subcutaneous tissue', 'MARRIAGE ENDED', 'MARRIED', 'SINGLE',\n",
    "       'UNKNOWNmarriage', 'CATHOLIC', 'CHRISTIAN OTHER', 'JEWISH',\n",
    "       'NON-CHRISTIAN OTHER', 'PROTESTANT', 'UNKNOWNreligion', 'GOVERNMENT',\n",
    "       'PRIVATE', 'SELF-PAY', 'CLINIC REFERRAL/PREMATURE',\n",
    "       'EMERGENCY ROOM ADMIT', 'HMO REFERRAL/SICK',\n",
    "       'PHYS REFERRAL/NORMAL DELI', 'TRANSFER FROM HOSP/EXTRAM',\n",
    "       'TRANSFER FROM OTHER HEALT', 'TRANSFER FROM SKILLED NUR',\n",
    "       'TRSF WITHIN THIS FACILITY', 'UNKNOWN', 'ELECTIVE', 'EMERGENCY',\n",
    "       'URGENT']]\n",
    "lstdemo = ['blood and blood-forming organs','digestive',\n",
    "       'genitourinary', 'ill-defined', 'infectious and parasitic',\n",
    "       'injury and poisoning','nervous','respiratory', 'skin and subcutaneous tissue',\n",
    "        'MARRIAGE ENDED',\n",
    "       'MARRIED', 'SINGLE', 'UNKNOWNmarriage', 'CATHOLIC', 'CHRISTIAN OTHER',\n",
    "       'JEWISH', 'NON-CHRISTIAN OTHER', 'PROTESTANT', 'UNKNOWNreligion',\n",
    "       'GOVERNMENT', 'PRIVATE', 'SELF-PAY', 'CLINIC REFERRAL/PREMATURE',\n",
    "       'EMERGENCY ROOM ADMIT', 'HMO REFERRAL/SICK',\n",
    "       'PHYS REFERRAL/NORMAL DELI', 'TRANSFER FROM HOSP/EXTRAM',\n",
    "       'TRANSFER FROM OTHER HEALT', 'TRANSFER FROM SKILLED NUR',\n",
    "       'TRSF WITHIN THIS FACILITY', \n",
    "           'UNKNOWN', 'ELECTIVE', 'EMERGENCY',\n",
    "       'URGENT']"
   ]
  },
  {
   "cell_type": "code",
   "execution_count": 13,
   "metadata": {},
   "outputs": [],
   "source": [
    "def makefinal(lst, lstdata, demo, lstdemo):\n",
    "    binary = pd.DataFrame()\n",
    "    for i in range(0, 672, 2):\n",
    "        j = str(i)\n",
    "        for k in range(0, len(lstdata)):\n",
    "            mname = ('m' + str(lstdata[k]) + j)\n",
    "            tname = ('t'+ lstdata[k] + j)\n",
    "            binary[tname] = lst[k].iloc[:, i]\n",
    "            binary[mname] = lst[k].iloc[:, i+1]\n",
    "        for l in range(0, len(lstdemo)):\n",
    "            dname = (lstdemo[l] + j)\n",
    "            binary[dname] = demo.iloc[:, l]\n",
    "        \n",
    "    return binary"
   ]
  },
  {
   "cell_type": "code",
   "execution_count": 14,
   "metadata": {},
   "outputs": [],
   "source": [
    "binary = makefinal(lst, lstdata, demo, lstdemo)"
   ]
  },
  {
   "cell_type": "code",
   "execution_count": 15,
   "metadata": {},
   "outputs": [
    {
     "data": {
      "text/plain": [
       "(22404, 21504)"
      ]
     },
     "execution_count": 15,
     "metadata": {},
     "output_type": "execute_result"
    }
   ],
   "source": [
    "binary.shape"
   ]
  },
  {
   "cell_type": "code",
   "execution_count": 16,
   "metadata": {},
   "outputs": [
    {
     "data": {
      "text/plain": [
       "64"
      ]
     },
     "execution_count": 16,
     "metadata": {},
     "output_type": "execute_result"
    }
   ],
   "source": [
    "21504//336"
   ]
  },
  {
   "cell_type": "code",
   "execution_count": 17,
   "metadata": {},
   "outputs": [],
   "source": [
    "binary = binary.iloc[:11202, :]"
   ]
  },
  {
   "cell_type": "code",
   "execution_count": 18,
   "metadata": {},
   "outputs": [],
   "source": [
    "binary = np.asarray(binary)"
   ]
  },
  {
   "cell_type": "code",
   "execution_count": 19,
   "metadata": {},
   "outputs": [
    {
     "name": "stdout",
     "output_type": "stream",
     "text": [
      "9521\n",
      "1681\n"
     ]
    }
   ],
   "source": [
    "from sklearn.model_selection import train_test_split\n",
    "train, test = train_test_split(binary, test_size=0.15, shuffle = False)\n",
    "\n",
    "print(train.shape[0])\n",
    "print(test.shape[0])\n",
    "\n",
    "scaler = StandardScaler()\n",
    "\n",
    "trnx = scaler.fit_transform(train)\n",
    "tstx = scaler.transform(test)"
   ]
  },
  {
   "cell_type": "code",
   "execution_count": 20,
   "metadata": {},
   "outputs": [],
   "source": [
    "hadmdemo = demo.iloc[:,0]"
   ]
  },
  {
   "cell_type": "code",
   "execution_count": 21,
   "metadata": {},
   "outputs": [],
   "source": [
    "y = pd.read_csv(\"/Users/alex/LOSDatay.csv\")"
   ]
  },
  {
   "cell_type": "code",
   "execution_count": 22,
   "metadata": {},
   "outputs": [
    {
     "data": {
      "text/plain": [
       "(22399, 337)"
      ]
     },
     "execution_count": 22,
     "metadata": {},
     "output_type": "execute_result"
    }
   ],
   "source": [
    "y.shape"
   ]
  },
  {
   "cell_type": "code",
   "execution_count": 23,
   "metadata": {},
   "outputs": [],
   "source": [
    "y = y.iloc[:11202, :]"
   ]
  },
  {
   "cell_type": "code",
   "execution_count": 23,
   "metadata": {},
   "outputs": [],
   "source": [
    "for i in range(0,5):\n",
    "    y= y.append(pd.Series(), ignore_index=True)"
   ]
  },
  {
   "cell_type": "code",
   "execution_count": 24,
   "metadata": {},
   "outputs": [
    {
     "data": {
      "text/plain": [
       "(22404, 337)"
      ]
     },
     "execution_count": 24,
     "metadata": {},
     "output_type": "execute_result"
    }
   ],
   "source": [
    "y.shape"
   ]
  },
  {
   "cell_type": "code",
   "execution_count": 25,
   "metadata": {},
   "outputs": [
    {
     "data": {
      "text/html": [
       "<div>\n",
       "<style scoped>\n",
       "    .dataframe tbody tr th:only-of-type {\n",
       "        vertical-align: middle;\n",
       "    }\n",
       "\n",
       "    .dataframe tbody tr th {\n",
       "        vertical-align: top;\n",
       "    }\n",
       "\n",
       "    .dataframe thead th {\n",
       "        text-align: right;\n",
       "    }\n",
       "</style>\n",
       "<table border=\"1\" class=\"dataframe\">\n",
       "  <thead>\n",
       "    <tr style=\"text-align: right;\">\n",
       "      <th></th>\n",
       "      <th>Unnamed: 0</th>\n",
       "      <th>0</th>\n",
       "      <th>1</th>\n",
       "      <th>2</th>\n",
       "      <th>3</th>\n",
       "      <th>4</th>\n",
       "      <th>5</th>\n",
       "      <th>6</th>\n",
       "      <th>7</th>\n",
       "      <th>8</th>\n",
       "      <th>...</th>\n",
       "      <th>326</th>\n",
       "      <th>327</th>\n",
       "      <th>328</th>\n",
       "      <th>329</th>\n",
       "      <th>330</th>\n",
       "      <th>331</th>\n",
       "      <th>332</th>\n",
       "      <th>333</th>\n",
       "      <th>334</th>\n",
       "      <th>335</th>\n",
       "    </tr>\n",
       "  </thead>\n",
       "  <tbody>\n",
       "    <tr>\n",
       "      <th>0</th>\n",
       "      <td>0.0</td>\n",
       "      <td>40.0</td>\n",
       "      <td>39.0</td>\n",
       "      <td>38.0</td>\n",
       "      <td>37.0</td>\n",
       "      <td>36.0</td>\n",
       "      <td>34.0</td>\n",
       "      <td>33.0</td>\n",
       "      <td>32.0</td>\n",
       "      <td>31.0</td>\n",
       "      <td>...</td>\n",
       "      <td>NaN</td>\n",
       "      <td>NaN</td>\n",
       "      <td>NaN</td>\n",
       "      <td>NaN</td>\n",
       "      <td>NaN</td>\n",
       "      <td>NaN</td>\n",
       "      <td>NaN</td>\n",
       "      <td>NaN</td>\n",
       "      <td>NaN</td>\n",
       "      <td>NaN</td>\n",
       "    </tr>\n",
       "    <tr>\n",
       "      <th>1</th>\n",
       "      <td>1.0</td>\n",
       "      <td>318.0</td>\n",
       "      <td>317.0</td>\n",
       "      <td>316.0</td>\n",
       "      <td>315.0</td>\n",
       "      <td>314.0</td>\n",
       "      <td>313.0</td>\n",
       "      <td>312.0</td>\n",
       "      <td>311.0</td>\n",
       "      <td>310.0</td>\n",
       "      <td>...</td>\n",
       "      <td>NaN</td>\n",
       "      <td>NaN</td>\n",
       "      <td>NaN</td>\n",
       "      <td>NaN</td>\n",
       "      <td>NaN</td>\n",
       "      <td>NaN</td>\n",
       "      <td>NaN</td>\n",
       "      <td>NaN</td>\n",
       "      <td>NaN</td>\n",
       "      <td>NaN</td>\n",
       "    </tr>\n",
       "    <tr>\n",
       "      <th>2</th>\n",
       "      <td>2.0</td>\n",
       "      <td>71.0</td>\n",
       "      <td>70.0</td>\n",
       "      <td>69.0</td>\n",
       "      <td>68.0</td>\n",
       "      <td>67.0</td>\n",
       "      <td>66.0</td>\n",
       "      <td>65.0</td>\n",
       "      <td>64.0</td>\n",
       "      <td>63.0</td>\n",
       "      <td>...</td>\n",
       "      <td>NaN</td>\n",
       "      <td>NaN</td>\n",
       "      <td>NaN</td>\n",
       "      <td>NaN</td>\n",
       "      <td>NaN</td>\n",
       "      <td>NaN</td>\n",
       "      <td>NaN</td>\n",
       "      <td>NaN</td>\n",
       "      <td>NaN</td>\n",
       "      <td>NaN</td>\n",
       "    </tr>\n",
       "    <tr>\n",
       "      <th>3</th>\n",
       "      <td>3.0</td>\n",
       "      <td>196.0</td>\n",
       "      <td>195.0</td>\n",
       "      <td>194.0</td>\n",
       "      <td>193.0</td>\n",
       "      <td>192.0</td>\n",
       "      <td>191.0</td>\n",
       "      <td>190.0</td>\n",
       "      <td>189.0</td>\n",
       "      <td>188.0</td>\n",
       "      <td>...</td>\n",
       "      <td>NaN</td>\n",
       "      <td>NaN</td>\n",
       "      <td>NaN</td>\n",
       "      <td>NaN</td>\n",
       "      <td>NaN</td>\n",
       "      <td>NaN</td>\n",
       "      <td>NaN</td>\n",
       "      <td>NaN</td>\n",
       "      <td>NaN</td>\n",
       "      <td>NaN</td>\n",
       "    </tr>\n",
       "    <tr>\n",
       "      <th>4</th>\n",
       "      <td>4.0</td>\n",
       "      <td>162.0</td>\n",
       "      <td>161.0</td>\n",
       "      <td>160.0</td>\n",
       "      <td>159.0</td>\n",
       "      <td>158.0</td>\n",
       "      <td>157.0</td>\n",
       "      <td>156.0</td>\n",
       "      <td>155.0</td>\n",
       "      <td>154.0</td>\n",
       "      <td>...</td>\n",
       "      <td>NaN</td>\n",
       "      <td>NaN</td>\n",
       "      <td>NaN</td>\n",
       "      <td>NaN</td>\n",
       "      <td>NaN</td>\n",
       "      <td>NaN</td>\n",
       "      <td>NaN</td>\n",
       "      <td>NaN</td>\n",
       "      <td>NaN</td>\n",
       "      <td>NaN</td>\n",
       "    </tr>\n",
       "  </tbody>\n",
       "</table>\n",
       "<p>5 rows × 337 columns</p>\n",
       "</div>"
      ],
      "text/plain": [
       "   Unnamed: 0      0      1      2      3      4      5      6      7      8  \\\n",
       "0         0.0   40.0   39.0   38.0   37.0   36.0   34.0   33.0   32.0   31.0   \n",
       "1         1.0  318.0  317.0  316.0  315.0  314.0  313.0  312.0  311.0  310.0   \n",
       "2         2.0   71.0   70.0   69.0   68.0   67.0   66.0   65.0   64.0   63.0   \n",
       "3         3.0  196.0  195.0  194.0  193.0  192.0  191.0  190.0  189.0  188.0   \n",
       "4         4.0  162.0  161.0  160.0  159.0  158.0  157.0  156.0  155.0  154.0   \n",
       "\n",
       "   ...  326  327  328  329  330  331  332  333  334  335  \n",
       "0  ...  NaN  NaN  NaN  NaN  NaN  NaN  NaN  NaN  NaN  NaN  \n",
       "1  ...  NaN  NaN  NaN  NaN  NaN  NaN  NaN  NaN  NaN  NaN  \n",
       "2  ...  NaN  NaN  NaN  NaN  NaN  NaN  NaN  NaN  NaN  NaN  \n",
       "3  ...  NaN  NaN  NaN  NaN  NaN  NaN  NaN  NaN  NaN  NaN  \n",
       "4  ...  NaN  NaN  NaN  NaN  NaN  NaN  NaN  NaN  NaN  NaN  \n",
       "\n",
       "[5 rows x 337 columns]"
      ]
     },
     "execution_count": 25,
     "metadata": {},
     "output_type": "execute_result"
    }
   ],
   "source": [
    "y.head()"
   ]
  },
  {
   "cell_type": "code",
   "execution_count": 24,
   "metadata": {},
   "outputs": [
    {
     "data": {
      "text/plain": [
       "(11202, 337)"
      ]
     },
     "execution_count": 24,
     "metadata": {},
     "output_type": "execute_result"
    }
   ],
   "source": [
    "y.shape"
   ]
  },
  {
   "cell_type": "code",
   "execution_count": 25,
   "metadata": {},
   "outputs": [],
   "source": [
    "y = y.iloc[:, 1:]\n",
    "y = y.fillna(0)"
   ]
  },
  {
   "cell_type": "code",
   "execution_count": 26,
   "metadata": {},
   "outputs": [],
   "source": [
    "trny = y[:9521]\n",
    "tsty = y[9521:]"
   ]
  },
  {
   "cell_type": "code",
   "execution_count": 27,
   "metadata": {},
   "outputs": [],
   "source": [
    "tsty = np.asarray(tsty)\n",
    "trny = np.asarray(trny)"
   ]
  },
  {
   "cell_type": "code",
   "execution_count": 28,
   "metadata": {},
   "outputs": [
    {
     "data": {
      "text/plain": [
       "(1681, 336)"
      ]
     },
     "execution_count": 28,
     "metadata": {},
     "output_type": "execute_result"
    }
   ],
   "source": [
    "tsty.shape"
   ]
  },
  {
   "cell_type": "code",
   "execution_count": 29,
   "metadata": {},
   "outputs": [
    {
     "data": {
      "text/plain": [
       "(9521, 336)"
      ]
     },
     "execution_count": 29,
     "metadata": {},
     "output_type": "execute_result"
    }
   ],
   "source": [
    "trny.shape"
   ]
  },
  {
   "cell_type": "code",
   "execution_count": 32,
   "metadata": {},
   "outputs": [],
   "source": [
    "# save numpy array as csv file\n",
    "from numpy import asarray\n",
    "from numpy import savetxt\n",
    "# save to csv file\n",
    "savetxt('LOSDatatrnx.csv', trnx, delimiter=',')\n",
    "savetxt('LOSDatatrny.csv', trny, delimiter=',')\n",
    "savetxt('LOSDatatstx.csv', tstx, delimiter=',')\n",
    "savetxt('LOSDatatsty.csv', tsty, delimiter=',')"
   ]
  },
  {
   "cell_type": "code",
   "execution_count": null,
   "metadata": {},
   "outputs": [],
   "source": []
  }
 ],
 "metadata": {
  "kernelspec": {
   "display_name": "Python 3",
   "language": "python",
   "name": "python3"
  },
  "language_info": {
   "codemirror_mode": {
    "name": "ipython",
    "version": 3
   },
   "file_extension": ".py",
   "mimetype": "text/x-python",
   "name": "python",
   "nbconvert_exporter": "python",
   "pygments_lexer": "ipython3",
   "version": "3.7.3"
  }
 },
 "nbformat": 4,
 "nbformat_minor": 2
}
