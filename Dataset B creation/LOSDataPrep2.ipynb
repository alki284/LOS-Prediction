{
 "cells": [
  {
   "cell_type": "code",
   "execution_count": 1,
   "metadata": {},
   "outputs": [],
   "source": [
    "import pandas as pd\n",
    "import numpy as np\n",
    "import matplotlib.pyplot as plt\n",
    "import datetime\n",
    "import time\n",
    "import statistics\n",
    "import sklearn\n",
    "%matplotlib inline\n",
    "from datetime import date\n",
    "from scipy import stats as stats\n",
    "from sklearn import preprocessing\n",
    "from sklearn import model_selection\n",
    "from datetime import datetime, timedelta\n",
    "from tensorflow import keras as keras\n",
    "from sklearn.preprocessing import StandardScaler\n",
    "from sklearn.model_selection import train_test_split\n",
    "from sklearn.compose import make_column_transformer\n",
    "from numpy import asarray\n",
    "from numpy import savetxt\n",
    "\n",
    "df_time = pd.read_csv(\"/Users/alex/50varraw.csv\")"
   ]
  },
  {
   "cell_type": "code",
   "execution_count": 2,
   "metadata": {},
   "outputs": [],
   "source": [
    "date_mask = \"%Y-%m-%d %H:%M:%S\"\n",
    "df_time['CHARTTIME'] = pd.to_datetime(df_time['CHARTTIME'], format= date_mask)\n",
    "df_time['DISCHTIME'] = pd.to_datetime(df_time['DISCHTIME'], format= date_mask)\n",
    "df_time['ADMITTIME'] = pd.to_datetime(df_time['ADMITTIME'], format= date_mask)\n",
    "df_time['HOURS_LEFT'] = round(((df_time['DISCHTIME'] - df_time['CHARTTIME']).dt.total_seconds() / 3600))\n",
    "df_time['LOS'] = round(((df_time['DISCHTIME'] - df_time['ADMITTIME']).dt.total_seconds() / 3600))\n",
    "\n",
    "df_values = df_time[['HADM_ID', 'ITEMID', 'CHARTTIME', 'VALUE', 'ITEM_NAME',\n",
    "       'blood and blood-forming organs', 'circulatory', 'congenital',\n",
    "       'digestive', 'endocrine, metabolic and immunity',\n",
    "       'external causes of injury and supplemental classification',\n",
    "       'genitourinary', 'ill-defined', 'infectious and parasitic',\n",
    "       'injury and poisoning', 'mental', 'musculoskeletal', 'neoplasms',\n",
    "       'nervous', 'perinatal period', 'pregnancy, childbirth, and puerperium',\n",
    "       'respiratory', 'skin and subcutaneous tissue','ASIAN', 'BLACK', 'HISPANIC', \n",
    "        'OTHER', 'UNKNOWNethnicity',\n",
    "       'WHITE', 'MARRIAGE ENDED', 'MARRIED', 'SINGLE', 'UNKNOWNmarriage',\n",
    "       'CATHOLIC', 'CHRISTIAN OTHER', 'JEWISH', 'NON-CHRISTIAN OTHER',\n",
    "       'PROTESTANT', 'UNKNOWNreligion', 'GOVERNMENT', 'PRIVATE', 'SELF-PAY',\n",
    "       'CLINIC REFERRAL/PREMATURE', 'EMERGENCY ROOM ADMIT',\n",
    "       'HMO REFERRAL/SICK', 'PHYS REFERRAL/NORMAL DELI',\n",
    "       'TRANSFER FROM HOSP/EXTRAM', 'TRANSFER FROM OTHER HEALT',\n",
    "       'TRANSFER FROM SKILLED NUR', 'TRSF WITHIN THIS FACILITY', 'UNKNOWN',\n",
    "       'ELECTIVE', 'EMERGENCY', 'URGENT', 'AGE BIN', 'Age Bin_2', 'Age Bin_3',\n",
    "       'Age Bin_4', 'Age Bin_5', 'Age Bin_6', 'HOURS_IN', 'HOURS_LEFT', 'LOS']]"
   ]
  },
  {
   "cell_type": "code",
   "execution_count": 3,
   "metadata": {},
   "outputs": [],
   "source": [
    "df_value = df_time[['HADM_ID', 'CHARTTIME', 'ITEM_NAME', 'VALUE']]\n",
    "df_all = pd.DataFrame()\n",
    "df_all['CHARTTIME'] = df_value['CHARTTIME']\n",
    "df_all['HADM_ID'] = df_value['HADM_ID']\n",
    "df_all['Albumin'] = \"\"\n",
    "df_all['RBC'] = \"\"\n",
    "df_all['Hematocrit'] = \"\"\n",
    "df_all['MeanBP'] = \"\"\n",
    "df_all['Platelets'] = \"\"\n",
    "df_all['Weight'] = \"\"\n",
    "df_all['pH'] = \"\"\n",
    "df_all['OxySat'] = \"\"\n",
    "df_all['ResRate'] = \"\"\n",
    "df_all['HeartRate'] = \"\"\n",
    "df_all['Temperature'] = \"\"\n",
    "df_all['White_Blood_Cell'] = \"\"\n",
    "df_all['Glasgow_Coma'] = \"\"\n",
    "df_all['Birillium'] = \"\"\n",
    "df_all['BloodUreaNitrogen'] = \"\"\n",
    "df_all['Mech_Vent'] = \"\""
   ]
  },
  {
   "cell_type": "code",
   "execution_count": 4,
   "metadata": {},
   "outputs": [],
   "source": [
    "HeartRate = df_values[df_values['ITEM_NAME'].str.contains(\"HeartRate\")]\n",
    "Temperature = df_value[df_value['ITEM_NAME'].str.contains(\"temperature\")]\n",
    "White_Blood_Cell = df_value[df_value['ITEM_NAME'].str.contains(\"White_blood_cell\")]\n",
    "Glasgow_Coma = df_value[df_value['ITEM_NAME'].str.contains(\"glasgow\")]\n",
    "Birillium = df_value[df_value['ITEM_NAME'].str.contains(\"birillium\")]\n",
    "BloodUreaNitrogen = df_value[df_value['ITEM_NAME'].str.contains(\"BUN\")]\n",
    "Mech_Vent = df_value[df_value['ITEM_NAME'].str.contains(\"mech_vent\")]\n",
    "Albumin = df_value[df_values['ITEM_NAME'].str.contains(\"Albumin\")]\n",
    "RBC = df_value[df_value['ITEM_NAME'].str.contains(\"Red_Blood\")]\n",
    "Hematocrit = df_value[df_value['ITEM_NAME'].str.contains(\"Hematocrit\")]\n",
    "MeanBP = df_value[df_value['ITEM_NAME'].str.contains(\"Mean_BP\")]\n",
    "Platelets = df_value[df_value['ITEM_NAME'].str.contains(\"Platelets\")]\n",
    "Weight = df_value[df_value['ITEM_NAME'].str.contains(\"Weight\")]\n",
    "pH = df_value[df_value['ITEM_NAME'].str.contains(\"pH\")]\n",
    "OxySat = df_value[df_value['ITEM_NAME'].str.contains(\"Oxygen_Saturation\")]\n",
    "ResRate = df_value[df_value['ITEM_NAME'].str.contains(\"Respiratory_Rate\")]\n",
    "\n",
    "df_all = df_all.merge(HeartRate, on=['HADM_ID', 'CHARTTIME'], how = 'outer')\n",
    "df_all['HeartRate'] = df_all['VALUE']\n",
    "df_all = df_all.drop(columns = ['VALUE', 'ITEM_NAME'])"
   ]
  },
  {
   "cell_type": "code",
   "execution_count": 5,
   "metadata": {},
   "outputs": [],
   "source": [
    "def addvital(VitalList, nameofcol):\n",
    "    global df_all\n",
    "    df_all = df_all.merge(VitalList, on=['HADM_ID', 'CHARTTIME'], how = 'outer')\n",
    "    df_all[nameofcol] = df_all['VALUE']\n",
    "    df_all = df_all.drop(columns = ['VALUE', 'ITEM_NAME'])\n",
    "\n",
    "addvital(Temperature, 'Temperature')\n",
    "addvital(White_Blood_Cell, 'White_Blood_Cell')\n",
    "addvital(Glasgow_Coma, 'Glasgow_Coma')\n",
    "addvital(Birillium, 'Birillium')\n",
    "addvital(BloodUreaNitrogen, 'BloodUreaNitrogen')\n"
   ]
  },
  {
   "cell_type": "code",
   "execution_count": 6,
   "metadata": {},
   "outputs": [],
   "source": [
    "addvital(Mech_Vent, 'Mech_Vent')\n",
    "addvital(Albumin, 'Albumin')\n",
    "addvital(RBC, 'RBC')\n",
    "addvital(Hematocrit, 'Hematocrit')\n",
    "addvital(MeanBP, 'Mean_BP')\n"
   ]
  },
  {
   "cell_type": "code",
   "execution_count": 7,
   "metadata": {},
   "outputs": [],
   "source": [
    "addvital(Platelets, 'Platelets')\n",
    "addvital(Weight, 'Weight')\n",
    "addvital(pH, 'pH')\n",
    "addvital(OxySat, 'OxySat')\n",
    "addvital(ResRate, 'ResRate')\n",
    "\n",
    "df_all = df_all.drop_duplicates(subset=['HADM_ID','CHARTTIME'], keep='first')"
   ]
  },
  {
   "cell_type": "code",
   "execution_count": 11,
   "metadata": {},
   "outputs": [],
   "source": [
    "def fordfill(vital, vitalmask):\n",
    "    df_all[vitalmask] = 0\n",
    "    df_all.loc[df_all[vital].isna() == False, vitalmask] = 1\n",
    "    df_all[vital]=df_all.groupby('HADM_ID')[vital].apply(lambda x : x.ffill())\n",
    "\n",
    "fordfill('HeartRate', 'HeartRateMask')\n",
    "fordfill('Temperature', 'TemperatureMask')\n",
    "fordfill('White_Blood_Cell', 'White_Blood_CellMask')\n",
    "fordfill('Glasgow_Coma', 'Glasgow_ComaMask')\n",
    "fordfill('Birillium', 'BirilliumMask')\n",
    "fordfill('BloodUreaNitrogen', 'BloodUreaNitrogenMask')\n",
    "fordfill('Mech_Vent', 'Mech_VentMask')\n",
    "fordfill('Albumin', 'AlbuminMask')\n",
    "fordfill('RBC', 'RBCMask')\n",
    "fordfill('Hematocrit', 'HematocritMask')\n",
    "fordfill('Mean_BP', 'Mean_BPMask')\n",
    "fordfill('Platelets', 'PlateletsMask')\n",
    "fordfill('Weight', 'WeightMask')\n",
    "fordfill('pH', 'pHMask')\n",
    "fordfill('OxySat', 'OxySatMask')\n",
    "fordfill('ResRate', 'ResRateMask')\n",
    "\n",
    "imputdict = {\n",
    "    'HeartRate' : 86,\n",
    "    'Temperature' : 37.8,\n",
    "    'White_Blood_Cell' : 9,\n",
    "    'BloodUreaNitrogen' : 4.7,\n",
    "    'Glasgow_Coma' : 3,\n",
    "    'Birillium' : 0.2,\n",
    "    'Mech_Vent' : 0,\n",
    "    'Albumin' : 4.4,\n",
    "    'RBC' : 5.0,\n",
    "    'Hematocrit' : 42,\n",
    "    'Mean_BP' : 81,\n",
    "    'Platelets' : 240,\n",
    "    'Weight' : 87,\n",
    "    'pH' : 7.4,\n",
    "    'OxySat' : 97.5,\n",
    "    'ResRate' : 16,\n",
    "    'SHIFTS_LEFT' : 0,\n",
    "    'HOURS_IN' : 0\n",
    "    }\n",
    "df_all = df_all.fillna(value=imputdict)"
   ]
  },
  {
   "cell_type": "code",
   "execution_count": 12,
   "metadata": {},
   "outputs": [],
   "source": [
    "df_all = df_all[['HeartRate', 'Temperature', 'White_Blood_Cell', 'Glasgow_Coma', 'Birillium',\n",
    "                 'BloodUreaNitrogen', 'Mech_Vent','Albumin', 'RBC', 'Hematocrit',\n",
    "               'MeanBP', 'Platelets', 'Weight', 'pH', 'OxySat', 'ResRate', 'HeartRateMask',\n",
    "                 'TemperatureMask','White_Blood_CellMask', 'Glasgow_ComaMask', 'BirilliumMask',\n",
    "                 'BloodUreaNitrogenMask','Mech_VentMask',\n",
    "                'AlbuminMask', 'RBCMask', 'HematocritMask', 'Mean_BPMask',\n",
    "                'PlateletsMask','WeightMask', 'pHMask', 'OxySatMask',\n",
    "                'ResRateMask','HADM_ID', \n",
    "               'blood and blood-forming organs', 'circulatory', 'congenital',\n",
    "               'digestive', 'endocrine, metabolic and immunity',\n",
    "               'external causes of injury and supplemental classification',\n",
    "               'genitourinary', 'ill-defined', 'infectious and parasitic',\n",
    "               'injury and poisoning', 'mental', 'musculoskeletal', 'neoplasms',\n",
    "               'nervous', 'perinatal period', 'pregnancy, childbirth, and puerperium',\n",
    "               'respiratory', 'skin and subcutaneous tissue', 'ASIAN', 'BLACK',\n",
    "               'HISPANIC', 'OTHER', 'UNKNOWNethnicity', 'WHITE', 'MARRIAGE ENDED',\n",
    "               'MARRIED', 'SINGLE', 'UNKNOWNmarriage', 'CATHOLIC', 'CHRISTIAN OTHER',\n",
    "               'JEWISH', 'NON-CHRISTIAN OTHER', 'PROTESTANT', 'UNKNOWNreligion',\n",
    "               'GOVERNMENT', 'PRIVATE', 'SELF-PAY', 'CLINIC REFERRAL/PREMATURE',\n",
    "               'EMERGENCY ROOM ADMIT', 'HMO REFERRAL/SICK',\n",
    "               'PHYS REFERRAL/NORMAL DELI', 'TRANSFER FROM HOSP/EXTRAM',\n",
    "               'TRANSFER FROM OTHER HEALT', 'TRANSFER FROM SKILLED NUR',\n",
    "               'TRSF WITHIN THIS FACILITY', 'UNKNOWN', 'ELECTIVE', 'EMERGENCY',\n",
    "               'URGENT', 'AGE BIN', 'Age Bin_2', 'Age Bin_3', 'Age Bin_4', 'Age Bin_5',\n",
    "               'Age Bin_6', 'HOURS_IN', 'HOURS_LEFT', 'LOS']]\n",
    "\n",
    "df_all = df_all.dropna()\n",
    "df_all = df_all.drop(df_all[df_all.HOURS_IN > 336].index)"
   ]
  },
  {
   "cell_type": "code",
   "execution_count": 13,
   "metadata": {},
   "outputs": [],
   "source": [
    "df_all.to_csv(r'/Users/alex/50varcomplete.csv')"
   ]
  },
  {
   "cell_type": "code",
   "execution_count": 14,
   "metadata": {},
   "outputs": [
    {
     "data": {
      "text/plain": [
       "(1580420, 91)"
      ]
     },
     "execution_count": 14,
     "metadata": {},
     "output_type": "execute_result"
    }
   ],
   "source": [
    "df_all.shape"
   ]
  },
  {
   "cell_type": "code",
   "execution_count": null,
   "metadata": {},
   "outputs": [],
   "source": []
  }
 ],
 "metadata": {
  "kernelspec": {
   "display_name": "Python 3",
   "language": "python",
   "name": "python3"
  },
  "language_info": {
   "codemirror_mode": {
    "name": "ipython",
    "version": 3
   },
   "file_extension": ".py",
   "mimetype": "text/x-python",
   "name": "python",
   "nbconvert_exporter": "python",
   "pygments_lexer": "ipython3",
   "version": "3.7.3"
  }
 },
 "nbformat": 4,
 "nbformat_minor": 2
}
