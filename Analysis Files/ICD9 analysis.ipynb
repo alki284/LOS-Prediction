{
 "cells": [
  {
   "cell_type": "code",
   "execution_count": 6,
   "metadata": {},
   "outputs": [],
   "source": [
    "import pandas as pd\n",
    "import numpy as np\n",
    "import seaborn as sns\n",
    "import matplotlib.pyplot as plt\n",
    "from datetime import datetime\n",
    "import time\n",
    "import statistics\n",
    "%matplotlib inline\n",
    "from datetime import date\n",
    "import scipy\n",
    "\n",
    "df_time = pd.read_csv(\"50varraw.csv\")\n",
    "\n",
    "df_time = pd.DataFrame(df_time)"
   ]
  },
  {
   "cell_type": "code",
   "execution_count": 11,
   "metadata": {},
   "outputs": [],
   "source": [
    "df_time = df_time.drop_duplicates(subset='HADM_ID', keep='first')"
   ]
  },
  {
   "cell_type": "code",
   "execution_count": 20,
   "metadata": {},
   "outputs": [],
   "source": [
    "from scipy.stats import f_oneway\n",
    "def findANOVA(col):\n",
    "    results = df_time[[col, 'LOS_hr']].groupby(col).median().reset_index()\n",
    "    categories = results[col].values.tolist()\n",
    "    arrays = []\n",
    "    for cat in categories:\n",
    "        arrays.append(df_time['LOS_hr'].loc[df_time[col]==cat].values)\n",
    "    print(categories)\n",
    "    f_oneway(arrays[0],arrays[1])"
   ]
  },
  {
   "cell_type": "code",
   "execution_count": 30,
   "metadata": {},
   "outputs": [],
   "source": [
    "df_time = df_time.reindex()"
   ]
  },
  {
   "cell_type": "code",
   "execution_count": 33,
   "metadata": {},
   "outputs": [],
   "source": [
    "df_ICD = df_time[['blood and blood-forming organs', 'circulatory', 'congenital',\n",
    "       'digestive', 'endocrine, metabolic and immunity',\n",
    "       'external causes of injury and supplemental classification',\n",
    "       'genitourinary', 'ill-defined', 'infectious and parasitic',\n",
    "       'injury and poisoning', 'mental', 'musculoskeletal', 'neoplasms',\n",
    "       'nervous', 'perinatal period', 'pregnancy, childbirth, and puerperium',\n",
    "       'respiratory', 'skin and subcutaneous tissue', 'LOS_hr']]"
   ]
  },
  {
   "cell_type": "code",
   "execution_count": 37,
   "metadata": {},
   "outputs": [],
   "source": [
    "from scipy.stats import ttest_ind\n",
    "def ttest(index, name):\n",
    "    one = []\n",
    "    zero = []\n",
    "    for i in range(0, 22576):\n",
    "        if df_ICD.iloc[i,index] == 1:\n",
    "            one.append(df_ICD.iloc[i, -1])\n",
    "        else:\n",
    "            zero.append(df_ICD.iloc[i, -1])\n",
    "    print(ttest_ind(one,zero, equal_var = False))"
   ]
  },
  {
   "cell_type": "code",
   "execution_count": 38,
   "metadata": {},
   "outputs": [
    {
     "name": "stdout",
     "output_type": "stream",
     "text": [
      "Ttest_indResult(statistic=20.698382221834187, pvalue=1.8462153873827337e-93)\n"
     ]
    }
   ],
   "source": [
    "ttest(0, 'blood and blood-forming organs')"
   ]
  },
  {
   "cell_type": "code",
   "execution_count": 39,
   "metadata": {},
   "outputs": [
    {
     "name": "stdout",
     "output_type": "stream",
     "text": [
      "Ttest_indResult(statistic=7.226421233001773, pvalue=5.441375690267281e-13)\n"
     ]
    }
   ],
   "source": [
    "ttest(1, 'circulatory')"
   ]
  },
  {
   "cell_type": "code",
   "execution_count": 40,
   "metadata": {},
   "outputs": [
    {
     "name": "stdout",
     "output_type": "stream",
     "text": [
      "Ttest_indResult(statistic=1.3375939691091552, pvalue=0.1812957568638042)\n"
     ]
    }
   ],
   "source": [
    "ttest(2, 'congenital')"
   ]
  },
  {
   "cell_type": "code",
   "execution_count": 41,
   "metadata": {},
   "outputs": [
    {
     "name": "stdout",
     "output_type": "stream",
     "text": [
      "Ttest_indResult(statistic=19.749217759402175, pvalue=1.3581610808294608e-85)\n"
     ]
    }
   ],
   "source": [
    "ttest(3, 'digestive')"
   ]
  },
  {
   "cell_type": "code",
   "execution_count": 42,
   "metadata": {},
   "outputs": [
    {
     "name": "stdout",
     "output_type": "stream",
     "text": [
      "Ttest_indResult(statistic=7.476204579028248, pvalue=8.067583979207004e-14)\n"
     ]
    }
   ],
   "source": [
    "ttest(4, 'endocrine, metabolic and immunity')"
   ]
  },
  {
   "cell_type": "code",
   "execution_count": 43,
   "metadata": {},
   "outputs": [
    {
     "name": "stdout",
     "output_type": "stream",
     "text": [
      "Ttest_indResult(statistic=4.897500910217437, pvalue=9.794491361721063e-07)\n"
     ]
    }
   ],
   "source": [
    "ttest(5, 'external causes of injury and supplemental classification')"
   ]
  },
  {
   "cell_type": "code",
   "execution_count": 44,
   "metadata": {},
   "outputs": [
    {
     "name": "stdout",
     "output_type": "stream",
     "text": [
      "Ttest_indResult(statistic=25.566436004306954, pvalue=1.1439327614081568e-139)\n"
     ]
    }
   ],
   "source": [
    "ttest(6, 'genitourinary')"
   ]
  },
  {
   "cell_type": "code",
   "execution_count": 45,
   "metadata": {},
   "outputs": [
    {
     "name": "stdout",
     "output_type": "stream",
     "text": [
      "Ttest_indResult(statistic=21.533927746355722, pvalue=6.474791986877229e-101)\n"
     ]
    }
   ],
   "source": [
    "ttest(7, 'ill-defined')"
   ]
  },
  {
   "cell_type": "code",
   "execution_count": 46,
   "metadata": {},
   "outputs": [
    {
     "name": "stdout",
     "output_type": "stream",
     "text": [
      "Ttest_indResult(statistic=30.284611950463702, pvalue=9.605770175274407e-186)\n"
     ]
    }
   ],
   "source": [
    "ttest(8, 'infectious and parasitic')"
   ]
  },
  {
   "cell_type": "code",
   "execution_count": 47,
   "metadata": {},
   "outputs": [
    {
     "name": "stdout",
     "output_type": "stream",
     "text": [
      "Ttest_indResult(statistic=28.478024886020584, pvalue=5.700698537095008e-174)\n"
     ]
    }
   ],
   "source": [
    "ttest(9, 'injury and poisoning')"
   ]
  },
  {
   "cell_type": "code",
   "execution_count": 48,
   "metadata": {},
   "outputs": [
    {
     "name": "stdout",
     "output_type": "stream",
     "text": [
      "Ttest_indResult(statistic=5.031576957039901, pvalue=4.926981282597425e-07)\n"
     ]
    }
   ],
   "source": [
    "ttest(10, 'mental')"
   ]
  },
  {
   "cell_type": "code",
   "execution_count": 49,
   "metadata": {},
   "outputs": [
    {
     "name": "stdout",
     "output_type": "stream",
     "text": [
      "Ttest_indResult(statistic=7.47151761292897, pvalue=9.043233586018905e-14)\n"
     ]
    }
   ],
   "source": [
    "ttest(11, 'musculoskeletal')"
   ]
  },
  {
   "cell_type": "code",
   "execution_count": 50,
   "metadata": {},
   "outputs": [
    {
     "name": "stdout",
     "output_type": "stream",
     "text": [
      "Ttest_indResult(statistic=9.138859438279562, pvalue=1.1670210123028642e-19)\n"
     ]
    }
   ],
   "source": [
    "ttest(12, 'neoplasms')"
   ]
  },
  {
   "cell_type": "code",
   "execution_count": 51,
   "metadata": {},
   "outputs": [
    {
     "name": "stdout",
     "output_type": "stream",
     "text": [
      "Ttest_indResult(statistic=15.409871081369381, pvalue=5.840409355417614e-53)\n"
     ]
    }
   ],
   "source": [
    "ttest(13,  'nervous')"
   ]
  },
  {
   "cell_type": "code",
   "execution_count": 52,
   "metadata": {},
   "outputs": [
    {
     "name": "stdout",
     "output_type": "stream",
     "text": [
      "Ttest_indResult(statistic=nan, pvalue=nan)\n"
     ]
    },
    {
     "name": "stderr",
     "output_type": "stream",
     "text": [
      "/Users/alex/anaconda3/lib/python3.7/site-packages/numpy/core/fromnumeric.py:3367: RuntimeWarning: Degrees of freedom <= 0 for slice\n",
      "  **kwargs)\n",
      "/Users/alex/anaconda3/lib/python3.7/site-packages/numpy/core/_methods.py:132: RuntimeWarning: invalid value encountered in double_scalars\n",
      "  ret = ret.dtype.type(ret / rcount)\n"
     ]
    }
   ],
   "source": [
    "ttest(14, 'perinatal period')"
   ]
  },
  {
   "cell_type": "code",
   "execution_count": 53,
   "metadata": {},
   "outputs": [
    {
     "name": "stdout",
     "output_type": "stream",
     "text": [
      "Ttest_indResult(statistic=1.1124605937710437, pvalue=0.26774332635472115)\n"
     ]
    }
   ],
   "source": [
    "ttest(15, 'pregnancy, childbirth, and puerperium')"
   ]
  },
  {
   "cell_type": "code",
   "execution_count": 54,
   "metadata": {},
   "outputs": [
    {
     "name": "stdout",
     "output_type": "stream",
     "text": [
      "Ttest_indResult(statistic=34.79246425526879, pvalue=1.547713154776353e-253)\n"
     ]
    }
   ],
   "source": [
    "ttest(16, 'respiratory')"
   ]
  },
  {
   "cell_type": "code",
   "execution_count": 55,
   "metadata": {},
   "outputs": [
    {
     "name": "stdout",
     "output_type": "stream",
     "text": [
      "Ttest_indResult(statistic=18.800070068636987, pvalue=1.1694529846809662e-72)\n"
     ]
    }
   ],
   "source": [
    "ttest(17, 'skin and subcutaneous tissue')"
   ]
  },
  {
   "cell_type": "code",
   "execution_count": null,
   "metadata": {},
   "outputs": [],
   "source": []
  }
 ],
 "metadata": {
  "kernelspec": {
   "display_name": "Python 3",
   "language": "python",
   "name": "python3"
  },
  "language_info": {
   "codemirror_mode": {
    "name": "ipython",
    "version": 3
   },
   "file_extension": ".py",
   "mimetype": "text/x-python",
   "name": "python",
   "nbconvert_exporter": "python",
   "pygments_lexer": "ipython3",
   "version": "3.7.3"
  }
 },
 "nbformat": 4,
 "nbformat_minor": 2
}
