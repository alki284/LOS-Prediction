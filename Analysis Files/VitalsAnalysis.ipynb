{
 "cells": [
  {
   "cell_type": "code",
   "execution_count": 1,
   "metadata": {},
   "outputs": [],
   "source": [
    "import pandas as pd\n",
    "import numpy as np\n",
    "import seaborn as sns\n",
    "import matplotlib.pyplot as plt\n",
    "from datetime import datetime\n",
    "import time\n",
    "import statistics\n",
    "%matplotlib inline\n",
    "from datetime import date\n",
    "import scipy"
   ]
  },
  {
   "cell_type": "code",
   "execution_count": 2,
   "metadata": {},
   "outputs": [],
   "source": [
    "df_time = pd.read_csv(\"50varraw.csv\")"
   ]
  },
  {
   "cell_type": "code",
   "execution_count": 3,
   "metadata": {},
   "outputs": [],
   "source": [
    "corre = pd.DataFrame()"
   ]
  },
  {
   "cell_type": "code",
   "execution_count": 4,
   "metadata": {},
   "outputs": [],
   "source": [
    "df_time = pd.DataFrame(df_time)"
   ]
  },
  {
   "cell_type": "code",
   "execution_count": 6,
   "metadata": {},
   "outputs": [],
   "source": [
    "#Where the item name matches the vital, create a df with just those vital measurements\n",
    "HeartRate = df_time[df_time['ITEM_NAME'].str.contains(\"HeartRate\")]\n",
    "SystolicBP = df_time[df_time['ITEM_NAME'].str.contains(\"SystolicBP\")]\n",
    "Potassium = df_time[df_time['ITEM_NAME'].str.contains(\"Potassium\")]\n",
    "Temperature = df_time[df_time['ITEM_NAME'].str.contains(\"Temperature\")]\n",
    "White_Blood_Cell = df_time[df_time['ITEM_NAME'].str.contains(\"White_blood_cell\")]\n",
    "Sodium = df_time[df_time['ITEM_NAME'].str.contains(\"Sodium\")]\n",
    "Bicarbonate = df_time[df_time['ITEM_NAME'].str.contains(\"Bicarbonate\")]\n",
    "Glasgow_Coma = df_time[df_time['ITEM_NAME'].str.contains(\"Glasgow_Coma\")]\n",
    "Birillium = df_time[df_time['ITEM_NAME'].str.contains(\"Birillium\")]\n",
    "BloodUreaNitrogen = df_time[df_time['ITEM_NAME'].str.contains(\"BloodUreaNitrogen\")]\n",
    "Urine = df_time[df_time['ITEM_NAME'].str.contains(\"Urine\")]\n",
    "Mech_Vent = df_time[df_time['ITEM_NAME'].str.contains(\"Mech_Vent\")]\n",
    "ResRate = df_time[df_time['ITEM_NAME'].str.contains(\"Respiratory_Rate\")]\n",
    "DiaBP = df_time[df_time['ITEM_NAME'].str.contains(\"diastolicBP\")]\n",
    "OxySat = df_time[df_time['ITEM_NAME'].str.contains(\"Oxygen_Saturation\")]\n",
    "Hematocrit = df_time[df_time['ITEM_NAME'].str.contains(\"Hematocrit\")]\n",
    "pH = df_time[df_time['ITEM_NAME'].str.contains(\"pH\")]\n",
    "Creatine = df_time[df_time['ITEM_NAME'].str.contains(\"Creatine\")]\n",
    "Magnesium = df_time[df_time['ITEM_NAME'].str.contains(\"Magnesium\")]\n",
    "Platelets = df_time[df_time['ITEM_NAME'].str.contains(\"Platelets\")]\n",
    "Calcium = df_time[df_time['ITEM_NAME'].str.contains(\"Calcium\")]\n",
    "Weight = df_time[df_time['ITEM_NAME'].str.contains(\"Weight\")]\n",
    "RBC = df_time[df_time['ITEM_NAME'].str.contains(\"Red_Blood\")]\n",
    "Lactic_Acid = df_time[df_time['ITEM_NAME'].str.contains(\"Lactic_Acid\")]\n",
    "Albumin = df_time[df_time['ITEM_NAME'].str.contains(\"Albumin\")]"
   ]
  },
  {
   "cell_type": "code",
   "execution_count": 7,
   "metadata": {},
   "outputs": [],
   "source": [
    "#Cut down columns to important ones\n",
    "HR = HeartRate[['HADM_ID','VALUE', 'LOS_hr']]\n",
    "ResRate = ResRate[['HADM_ID','VALUE', 'LOS_hr']]\n",
    "SysBP = SystolicBP[['HADM_ID','VALUE', 'LOS_hr']]\n",
    "DiaBP = DiaBP[['HADM_ID','VALUE', 'LOS_hr']]\n",
    "OxySat = OxySat[['HADM_ID','VALUE', 'LOS_hr']]\n",
    "Urine = Urine[['HADM_ID','VALUE', 'LOS_hr']]\n",
    "Coma = Glasgow_Coma[['HADM_ID','VALUE', 'LOS_hr']]\n",
    "Mech_Vent = Mech_Vent[['HADM_ID','VALUE', 'LOS_hr']]\n",
    "Temp = Temperature[['HADM_ID','VALUE', 'LOS_hr']]\n",
    "Hematocrit = Hematocrit[['HADM_ID','VALUE', 'LOS_hr']]\n",
    "pH = pH[['HADM_ID','VALUE', 'LOS_hr']]\n",
    "Na = Sodium[['HADM_ID','VALUE', 'LOS_hr']]\n",
    "Pot = Potassium[['HADM_ID','VALUE', 'LOS_hr']]\n",
    "Creat = Creatine[['HADM_ID','VALUE', 'LOS_hr']]\n",
    "BUN = BloodUreaNitrogen[['HADM_ID','VALUE', 'LOS_hr']]\n",
    "Mg = Magnesium[['HADM_ID','VALUE', 'LOS_hr']]\n",
    "Plates = Platelets[['HADM_ID','VALUE', 'LOS_hr']]\n",
    "WBC = White_Blood_Cell[['HADM_ID','VALUE', 'LOS_hr']]\n",
    "Cal = Calcium[['HADM_ID','VALUE', 'LOS_hr']]\n",
    "BiCarb = Bicarbonate[['HADM_ID','VALUE', 'LOS_hr']]\n",
    "Weight = Weight[['HADM_ID','VALUE', 'LOS_hr']]\n",
    "RBC = RBC[['HADM_ID','VALUE', 'LOS_hr']]\n",
    "Lactic = Lactic_Acid[['HADM_ID','VALUE', 'LOS_hr']]\n",
    "Biril = Birillium[['HADM_ID','VALUE', 'LOS_hr']]\n",
    "Albumin = Albumin[['HADM_ID','VALUE', 'LOS_hr']]"
   ]
  },
  {
   "cell_type": "code",
   "execution_count": 8,
   "metadata": {},
   "outputs": [
    {
     "ename": "NameError",
     "evalue": "name 'df_ADMISSIONS' is not defined",
     "output_type": "error",
     "traceback": [
      "\u001b[0;31m---------------------------------------------------------------------------\u001b[0m",
      "\u001b[0;31mNameError\u001b[0m                                 Traceback (most recent call last)",
      "\u001b[0;32m<ipython-input-8-1439a9df8968>\u001b[0m in \u001b[0;36m<module>\u001b[0;34m\u001b[0m\n\u001b[0;32m----> 1\u001b[0;31m \u001b[0mdemodf\u001b[0m \u001b[0;34m=\u001b[0m \u001b[0mdf_ADMISSIONS\u001b[0m\u001b[0;34m[\u001b[0m\u001b[0;34m[\u001b[0m\u001b[0;34m'HADM_ID'\u001b[0m\u001b[0;34m,\u001b[0m \u001b[0;34m'LOS_hr'\u001b[0m\u001b[0;34m]\u001b[0m\u001b[0;34m]\u001b[0m\u001b[0;34m\u001b[0m\u001b[0;34m\u001b[0m\u001b[0m\n\u001b[0m\u001b[1;32m      2\u001b[0m \u001b[0mPearson\u001b[0m \u001b[0;34m=\u001b[0m \u001b[0;34m[\u001b[0m\u001b[0;34m]\u001b[0m\u001b[0;34m\u001b[0m\u001b[0;34m\u001b[0m\u001b[0m\n\u001b[1;32m      3\u001b[0m \u001b[0mSpearman\u001b[0m \u001b[0;34m=\u001b[0m \u001b[0;34m[\u001b[0m\u001b[0;34m]\u001b[0m\u001b[0;34m\u001b[0m\u001b[0;34m\u001b[0m\u001b[0m\n\u001b[1;32m      4\u001b[0m \u001b[0mVitals\u001b[0m \u001b[0;34m=\u001b[0m \u001b[0;34m[\u001b[0m\u001b[0;34m]\u001b[0m\u001b[0;34m\u001b[0m\u001b[0;34m\u001b[0m\u001b[0m\n\u001b[1;32m      5\u001b[0m \u001b[0;32mdef\u001b[0m \u001b[0mfind_corr\u001b[0m\u001b[0;34m(\u001b[0m\u001b[0mVital\u001b[0m\u001b[0;34m,\u001b[0m \u001b[0mName\u001b[0m\u001b[0;34m,\u001b[0m \u001b[0mdemodf\u001b[0m\u001b[0;34m,\u001b[0m\u001b[0;34m)\u001b[0m\u001b[0;34m:\u001b[0m\u001b[0;34m\u001b[0m\u001b[0;34m\u001b[0m\u001b[0m\n",
      "\u001b[0;31mNameError\u001b[0m: name 'df_ADMISSIONS' is not defined"
     ]
    }
   ],
   "source": [
    "#Function finds correlation and p value and stores them in a list\n",
    "demodf = df_ADMISSIONS[['HADM_ID', 'LOS_hr']]\n",
    "Spearman = []\n",
    "Vitals = []\n",
    "def find_corr(Vital, Name, demodf,):\n",
    "    vitaldf = Vital[['HADM_ID', 'VALUE']]\n",
    "    vitaldf = pd.merge(vitaldf, demodf,on='HADM_ID',how='outer',indicator=True)\n",
    "    vitaldf = vitaldf.drop(columns=['_merge'])\n",
    "    vitaldf = vitaldf.dropna()\n",
    "    Vitals.append(Name)\n",
    "    Spearman.append(scipy.stats.spearmanr(vitaldf['LOS_hr'], vitaldf['VALUE']))"
   ]
  },
  {
   "cell_type": "code",
   "execution_count": null,
   "metadata": {},
   "outputs": [],
   "source": [
    "#Function finds correlation and p value and stores them in a list\n",
    "Spearman = []\n",
    "Vitals = []\n",
    "def find_corr(Vital, Name):\n",
    "    Vital = Vital.dropna()\n",
    "    Vitals.append(Name)\n",
    "    Spearman.append(scipy.stats.spearmanr(Vital['LOS_hr'], Vital['VALUE']))"
   ]
  },
  {
   "cell_type": "code",
   "execution_count": null,
   "metadata": {},
   "outputs": [],
   "source": [
    "#Finds correlation for all vitals\n",
    "find_corr(HR, 'Heart Rate')\n",
    "find_corr(ResRate, 'Respiratory Rate')\n",
    "find_corr(SysBP, 'Systolic BP')\n",
    "find_corr(DiaBP, 'Diastolic BP')\n",
    "find_corr(OxySat, 'Oxygen Saturation')\n",
    "find_corr(Urine, 'Urine')\n",
    "find_corr(Coma, 'Coma')\n",
    "find_corr(Mech_Vent, 'Mech_Vent')\n",
    "find_corr(Temp, 'Temperature')\n",
    "find_corr(Hematocrit, 'Hematocrit')\n",
    "find_corr(pH, 'pH')\n",
    "find_corr(Na, 'Sodium')\n",
    "find_corr(Pot, 'Potassium')\n",
    "find_corr(Creatine, 'Creatine')\n",
    "find_corr(BUN, 'Blood Urea Nitrogen')\n",
    "find_corr(Mg, 'Magnesium')\n",
    "find_corr(Plates, 'Platelets')\n",
    "find_corr(WBC, 'WBCs')\n",
    "find_corr(Cal, 'Calcium')\n",
    "find_corr(BiCarb, 'BiCarbonate')\n",
    "find_corr(Weight, 'Weight')\n",
    "find_corr(RBC, 'RBC')\n",
    "find_corr(Lactic, 'Lactic Acid')\n",
    "find_corr(Biril, 'Bilirubin')\n",
    "find_corr(Albumin, 'Albumin')"
   ]
  },
  {
   "cell_type": "code",
   "execution_count": null,
   "metadata": {},
   "outputs": [],
   "source": [
    "#Puts these into a dictionary and then a dataframe\n",
    "PvalueS = []\n",
    "Sco = []\n",
    "for i in range(0, len(Pearson)):\n",
    "    Pear, Pval = Pearson[i]\n",
    "    PvalueP.append(Pval)\n",
    "    Pco.append(Pear)\n",
    "for i in range(0, len(Spearman)):\n",
    "    Spear, Pval = Spearman[i]\n",
    "    PvalueS.append(Pval)\n",
    "    Sco.append(Spear)\n",
    "\n",
    "dict = {'Vital': Vitals, 'Pearson': Pco, 'Pearson Pval' : PvalueP,'Spearman': Sco, 'Spearman Pval': PvalueS}  \n",
    "    \n",
    "correlation = pd.DataFrame(dict) \n"
   ]
  },
  {
   "cell_type": "code",
   "execution_count": null,
   "metadata": {},
   "outputs": [],
   "source": [
    "#Sorts values into ascending order\n",
    "correlation = correlation.sort_values('Spearman')"
   ]
  },
  {
   "cell_type": "code",
   "execution_count": null,
   "metadata": {},
   "outputs": [],
   "source": [
    "correlation"
   ]
  },
  {
   "cell_type": "code",
   "execution_count": null,
   "metadata": {},
   "outputs": [],
   "source": [
    "#Plots correlation in bar chart.\n",
    "plt.style.use('ggplot')\n",
    "\n",
    "x = correlation['Vital']\n",
    "x_pos = [i for i, _ in enumerate(x)]\n",
    "\n",
    "plt.bar(x_pos, correlation['Spearman'], color='green')\n",
    "plt.xlabel(\"Vital Measurement\")\n",
    "plt.ylabel(\"Spearman Coeffcicient\")\n",
    "plt.title(\"Spearman Coefficient of Vitals against LOS\")\n",
    "plt.xticks(rotation=90)\n",
    "plt.xticks(x_pos, x)\n",
    "\n",
    "plt.show()"
   ]
  }
 ],
 "metadata": {
  "kernelspec": {
   "display_name": "Python 3",
   "language": "python",
   "name": "python3"
  },
  "language_info": {
   "codemirror_mode": {
    "name": "ipython",
    "version": 3
   },
   "file_extension": ".py",
   "mimetype": "text/x-python",
   "name": "python",
   "nbconvert_exporter": "python",
   "pygments_lexer": "ipython3",
   "version": "3.7.3"
  }
 },
 "nbformat": 4,
 "nbformat_minor": 2
}
